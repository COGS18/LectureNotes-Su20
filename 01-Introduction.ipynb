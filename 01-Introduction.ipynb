{
 "cells": [
  {
   "cell_type": "markdown",
   "metadata": {
    "slideshow": {
     "slide_type": "slide"
    }
   },
   "source": [
    "<div class=\"alert alert-danger\">\n",
    "  <strong>Reminder:</strong> All lectures for COGS 18 are being recorded.\n",
    "</div>"
   ]
  },
  {
   "cell_type": "markdown",
   "metadata": {
    "slideshow": {
     "slide_type": "-"
    }
   },
   "source": [
    "# Introduction to Python\n",
    "\n",
    "Shannon Ellis"
   ]
  },
  {
   "cell_type": "markdown",
   "metadata": {
    "slideshow": {
     "slide_type": "skip"
    }
   },
   "source": [
    "**Important Note**: This course was originally designed and developed by [Tom Donoghue](https://tomdonoghue.github.io/). While lectures, assignments, exams and coding labs will be altered from the original run of the course in Fall 2018, *tons* of credit for this course is due to Tom for his awesome work getting this course off the ground.\n"
   ]
  },
  {
   "cell_type": "markdown",
   "metadata": {
    "slideshow": {
     "slide_type": "fragment"
    }
   },
   "source": [
    "The PDF slides from the start of the first class are available here: https://cogs18.github.io/assets/intro/01_welcome.pdf"
   ]
  },
  {
   "cell_type": "markdown",
   "metadata": {
    "slideshow": {
     "slide_type": "slide"
    }
   },
   "source": [
    "# Logistics\n",
    "\n",
    "- Who:\n",
    "    - Instructor: Shannon Ellis \n",
    "    - TAs: Paul & Sylvia\n",
    "    - \"IAs\": Jose & Taylor\n",
    "    \n",
    "- Where:\n",
    "    - Lectures M-Th @ 11AM - 12:20PM (remote)\n",
    "    - Coding Lab Sections (Mon & Wed; 1 or 2 PM)\n",
    "    - Course Website: https://cogs18.github.io\n",
    "    - Piazza Page: https://piazza.com/ucsd/summer2020/cogs18"
   ]
  },
  {
   "cell_type": "markdown",
   "metadata": {
    "slideshow": {
     "slide_type": "slide"
    }
   },
   "source": [
    "# Expectations & Approach\n",
    "\n",
    "- Goal: to learn practical programming in Python\n",
    "- How: hands-on, community driven, skills based course, assignment & project driven\n",
    "- Lectures & Lab Sections will be used for interactive activities\n",
    "- Assignments, coding labs & a final project will be designed to get you coding"
   ]
  },
  {
   "cell_type": "markdown",
   "metadata": {
    "slideshow": {
     "slide_type": "slide"
    }
   },
   "source": [
    "## Why Learn Computation?"
   ]
  },
  {
   "cell_type": "markdown",
   "metadata": {
    "slideshow": {
     "slide_type": "fragment"
    }
   },
   "source": [
    "- Computation is how things are done"
   ]
  },
  {
   "cell_type": "markdown",
   "metadata": {
    "slideshow": {
     "slide_type": "fragment"
    }
   },
   "source": [
    "- Computation is the foundation of much of the modern world"
   ]
  },
  {
   "cell_type": "markdown",
   "metadata": {
    "slideshow": {
     "slide_type": "slide"
    }
   },
   "source": [
    "## What is Python\n"
   ]
  },
  {
   "cell_type": "markdown",
   "metadata": {
    "slideshow": {
     "slide_type": "fragment"
    }
   },
   "source": [
    "- Python is a programming language\n",
    "    - It is a way to do computation\n",
    "    - It gets the computer to do the work for you"
   ]
  },
  {
   "cell_type": "markdown",
   "metadata": {
    "slideshow": {
     "slide_type": "fragment"
    }
   },
   "source": [
    "- Python is an ecosystem\n",
    "    - It is a culture of practice for computation"
   ]
  },
  {
   "cell_type": "markdown",
   "metadata": {
    "slideshow": {
     "slide_type": "slide"
    }
   },
   "source": [
    "## What does Python look like"
   ]
  },
  {
   "cell_type": "code",
   "execution_count": 1,
   "metadata": {
    "slideshow": {
     "slide_type": "fragment"
    }
   },
   "outputs": [
    {
     "name": "stdout",
     "output_type": "stream",
     "text": [
      "variable name.\n"
     ]
    }
   ],
   "source": [
    "variable_name = \"variable name.\"\n",
    "print(variable_name)"
   ]
  },
  {
   "cell_type": "code",
   "execution_count": 4,
   "metadata": {
    "slideshow": {
     "slide_type": "fragment"
    }
   },
   "outputs": [
    {
     "name": "stdout",
     "output_type": "stream",
     "text": [
      "3\n"
     ]
    }
   ],
   "source": [
    "a = 1\n",
    "b = 2\n",
    "\n",
    "c = a + b\n",
    "\n",
    "print(c)"
   ]
  },
  {
   "cell_type": "markdown",
   "metadata": {
    "slideshow": {
     "slide_type": "slide"
    }
   },
   "source": [
    "## Why Choose Python?"
   ]
  },
  {
   "cell_type": "markdown",
   "metadata": {
    "slideshow": {
     "slide_type": "fragment"
    }
   },
   "source": [
    "- Python is a powerful, well developed, and well supported tool"
   ]
  },
  {
   "cell_type": "markdown",
   "metadata": {
    "slideshow": {
     "slide_type": "fragment"
    }
   },
   "source": [
    "- Python is general purpose, with an immense, multi-purpose ecosystem"
   ]
  },
  {
   "cell_type": "markdown",
   "metadata": {
    "slideshow": {
     "slide_type": "fragment"
    }
   },
   "source": [
    "- Python is human focused, with a strong user & developer community "
   ]
  },
  {
   "cell_type": "markdown",
   "metadata": {
    "slideshow": {
     "slide_type": "fragment"
    }
   },
   "source": [
    "- Python is open-source and accessible"
   ]
  },
  {
   "cell_type": "markdown",
   "metadata": {
    "slideshow": {
     "slide_type": "slide"
    }
   },
   "source": [
    "## This is a Jupyter Notebook"
   ]
  },
  {
   "cell_type": "markdown",
   "metadata": {
    "slideshow": {
     "slide_type": "fragment"
    }
   },
   "source": [
    "Uses in COGS18:\n",
    "\n",
    "- lecture notes\n",
    "- assignments\n",
    "- coding labs"
   ]
  },
  {
   "cell_type": "markdown",
   "metadata": {
    "slideshow": {
     "slide_type": "slide"
    }
   },
   "source": [
    "#### Clicker Question #1\n",
    "\n",
    "**How excited are you for COGS 18?**\n",
    "\n",
    "A. Super excited!  \n",
    "B. The most excited!  \n",
    "C. Couldn't be more excited!  \n",
    "D. I love 8AM classes!  "
   ]
  },
  {
   "cell_type": "markdown",
   "metadata": {
    "slideshow": {
     "slide_type": "slide"
    }
   },
   "source": [
    "## Tools"
   ]
  },
  {
   "cell_type": "markdown",
   "metadata": {
    "slideshow": {
     "slide_type": "skip"
    }
   },
   "source": [
    "This notebook will guide through the tools you will need for class materials and assignments, and how to get them. "
   ]
  },
  {
   "cell_type": "markdown",
   "metadata": {
    "slideshow": {
     "slide_type": "slide"
    }
   },
   "source": [
    "### Prerequisites\n",
    "\n",
    "This course and associated materials do not presume any prior knowledge of Python, or programming in general. \n",
    "\n",
    "To work with the course materials, you will need make sure you have access to the tools tools described here on datahub. \n",
    "\n",
    "It will be helpful for the final project if they are also installed on the computer you will be using. \n",
    "\n",
    "None of the materials are computationally heavy. "
   ]
  },
  {
   "cell_type": "markdown",
   "metadata": {
    "slideshow": {
     "slide_type": "slide"
    }
   },
   "source": [
    "### What do you need?\n",
    "\n",
    "- Access to datahub\n",
    "- Python: Working install of python 3.6 or 3.7 (suggested)\n",
    "    - We will be using the Anaconda distribution\n",
    "- Jupyter Notebooks (suggested)\n"
   ]
  },
  {
   "cell_type": "markdown",
   "metadata": {
    "slideshow": {
     "slide_type": "slide"
    }
   },
   "source": [
    "<center><img src=\"img/python.png\" width=\"450px\"></center>"
   ]
  },
  {
   "cell_type": "markdown",
   "metadata": {
    "slideshow": {
     "slide_type": "fragment"
    }
   },
   "source": [
    "<div class=\"alert alert-success\">\n",
    "Python is a programming language, whose development is led by the Python Software Foundation (PSF). \n",
    "</div>\n",
    "\n",
    "<div class=\"alert alert-info\">\n",
    "The official Python organization website is available <a href=\"https://www.python.org\" class=\"alert-link\">here</a>.\n",
    "</div>"
   ]
  },
  {
   "cell_type": "markdown",
   "metadata": {
    "slideshow": {
     "slide_type": "slide"
    }
   },
   "source": [
    "## Python\n",
    "\n",
    "- Versions: there are different versions of Python.\n",
    "    - We will be using 3.6 and/or 3.7\n",
    "- Packages: Python includes a \"base set\" of code (the standard library), and an extensive ecosystem of third party packages\n",
    "    - In this course, we will largely focus on the standard library\n",
    "    - For access to other packages when we need them, we will use Anaconda"
   ]
  },
  {
   "cell_type": "markdown",
   "metadata": {
    "slideshow": {
     "slide_type": "slide"
    }
   },
   "source": [
    "<center><img src=\"img/anaconda.png\" width=\"450px\"></center>"
   ]
  },
  {
   "cell_type": "markdown",
   "metadata": {
    "slideshow": {
     "slide_type": "fragment"
    }
   },
   "source": [
    "<div class=\"alert alert-success\">\n",
    "Anaconda is an open-source distribution of Python, focused on scientific computing in Python. \n",
    "</div>\n",
    "\n",
    "<div class=\"alert alert-info\">\n",
    "The anaconda website is \n",
    "<a href=\"https://www.anaconda.com\" class=\"alert-link\">here</a>. \n",
    "</div>"
   ]
  },
  {
   "cell_type": "markdown",
   "metadata": {
    "slideshow": {
     "slide_type": "slide"
    }
   },
   "source": [
    "<center><img src=\"img/conda.png\" width=\"450px\"></center>"
   ]
  },
  {
   "cell_type": "markdown",
   "metadata": {
    "slideshow": {
     "slide_type": "fragment"
    }
   },
   "source": [
    "<div class=\"alert alert-success\">\n",
    "Conda is a package management tool, that comes with anaconda. \n",
    "</div>\n",
    "\n",
    "<div class=\"alert alert-info\">\n",
    "Conda documentation is available\n",
    "<a href=\"https://conda.io/docs/\" class=\"alert-link\">here</a>.\n",
    "</div>"
   ]
  },
  {
   "cell_type": "markdown",
   "metadata": {
    "slideshow": {
     "slide_type": "slide"
    }
   },
   "source": [
    "## The Anaconda Ecosystem\n",
    "\n",
    "- Anaconda itself is a distribution - that is, a copy of the Python standard library, included a curated collection of external packages.\n",
    "- Conda is a package manager, allowing you to download, install, and manage other packages. "
   ]
  },
  {
   "cell_type": "markdown",
   "metadata": {
    "slideshow": {
     "slide_type": "slide"
    }
   },
   "source": [
    "<center><img src=\"img/jupyter.png\" width=\"300px\"></center>"
   ]
  },
  {
   "cell_type": "markdown",
   "metadata": {
    "slideshow": {
     "slide_type": "fragment"
    }
   },
   "source": [
    "<div class=\"alert alert-success\">\n",
    "Jupyter notebooks are a way to intermix code, outputs and plain text. \n",
    "They run in a web browser, and connect to a kernel to be able to execute code. \n",
    "</div>\n",
    "\n",
    "<div class=\"alert alert-info\">\n",
    "The official Jupyter website is available \n",
    "<a href=\"http://jupyter.org\" class=\"alert-link\">here</a>.\n",
    "</div>"
   ]
  },
  {
   "cell_type": "markdown",
   "metadata": {
    "slideshow": {
     "slide_type": "slide"
    }
   },
   "source": [
    "### Installation\n",
    "\n",
    "You only need access to datahub for this course, but for working on your projects and for downloading and opening the notebooks used in class, you may want to download anaconda onto your computer, which comes complete with conda, and Jupyter notebooks."
   ]
  },
  {
   "cell_type": "markdown",
   "metadata": {
    "slideshow": {
     "slide_type": "fragment"
    }
   },
   "source": [
    "<div class=\"alert alert-info\">\n",
    "Download anaconda from\n",
    "<a href=\"https://www.anaconda.com/download/\" class=\"alert-link\">here</a>.\n",
    "</div>"
   ]
  },
  {
   "cell_type": "markdown",
   "metadata": {
    "slideshow": {
     "slide_type": "skip"
    }
   },
   "source": [
    "### Notes\n",
    "\n",
    "- If you are on Mac, you have a native installation of Python. This native installation of Python may be older, will not include the extra packages that you will need for this class, and is best left untouched. \n",
    "    - Downloading anaconda will install a separate, independent install of Python, leaving your native install untouched. \n",
    "- Windows does not require Python natively and so it is not typically pre-installed. "
   ]
  },
  {
   "cell_type": "code",
   "execution_count": null,
   "metadata": {
    "scrolled": false,
    "slideshow": {
     "slide_type": "skip"
    }
   },
   "outputs": [],
   "source": [
    "# You can check which python you are using, and what version it is.\n",
    "#  Once you have installed anaconda, you should see you are using Python in your anaconda folder\n",
    "#  Make sure that the version you have is 3.6 (or at least 3.X)\n",
    "#  Note: these are command-line functions that may not work on windows\n",
    "!which python\n",
    "!python --version"
   ]
  },
  {
   "cell_type": "markdown",
   "metadata": {
    "slideshow": {
     "slide_type": "slide"
    }
   },
   "source": [
    "## JupyterHub\n",
    "\n",
    "<div class=\"alert alert-success\">\n",
    "JupyterHub allows Jupyter notebooks to be shared across multiple users.\n",
    "</div>\n",
    "\n",
    "<div class=\"alert alert-info\">\n",
    "The official JupyterHub website is available \n",
    "<a href=\"https://jupyterhub.readthedocs.io/en/stable/\" class=\"alert-link\">here</a>.\n",
    "</div>\n"
   ]
  },
  {
   "cell_type": "markdown",
   "metadata": {
    "slideshow": {
     "slide_type": "slide"
    }
   },
   "source": [
    "### Datahub\n",
    "\n",
    "UCSD hosts its version of JupyterHub and calls it datahub. This is what you'll be using in class.\n",
    "\n",
    "It is available here: http://datahub.ucsd.edu"
   ]
  },
  {
   "cell_type": "markdown",
   "metadata": {
    "slideshow": {
     "slide_type": "-"
    }
   },
   "source": [
    "<center><img src=\"img/datahub.png\" width=\"800px\"></center>"
   ]
  },
  {
   "cell_type": "markdown",
   "metadata": {
    "slideshow": {
     "slide_type": "slide"
    }
   },
   "source": [
    "### When to use Datahub?\n",
    "\n",
    "- Course Lecture Slides (opt.)\n",
    "- CodingLabs\n",
    "- Assignments\n"
   ]
  },
  {
   "cell_type": "markdown",
   "metadata": {
    "slideshow": {
     "slide_type": "slide"
    }
   },
   "source": [
    "#### Lecture Slides:\n",
    "\n",
    "Once you've logged into datahub, paste the following in your browser:\n",
    "\n",
    "https://datahub.ucsd.edu/hub/user-redirect/git-sync?repo=https://github.com/COGS18/LectureNotes-Su20"
   ]
  },
  {
   "cell_type": "markdown",
   "metadata": {
    "slideshow": {
     "slide_type": "slide"
    }
   },
   "source": [
    "#### CodingLabs & Assignments:\n",
    "- Fetch & complete on datahub\n",
    "- do not change file names\n",
    "- do not copy cells provided\n",
    "- adding cells *is* allowed!\n",
    "- `print()` statements encouraged"
   ]
  },
  {
   "cell_type": "markdown",
   "metadata": {
    "slideshow": {
     "slide_type": "fragment"
    }
   },
   "source": [
    "- For Submission:\n",
    "    - Before you click submit, make sure it's the thing you want to submit\n",
    "    - You ***must click submit***.\n",
    "\n",
    "    - Always check that the CodingLab/Assignment shows up under \"submitted assingments\"\n",
    "    - You can submit as many times as you want\n",
    "    - We only have access to your most recent submission\n",
    "    - If you submit past the deadline, we will only have access to your late submission"
   ]
  },
  {
   "cell_type": "markdown",
   "metadata": {
    "slideshow": {
     "slide_type": "slide"
    }
   },
   "source": [
    "### A note about: Timezones\n",
    "\n",
    "- Due Dates are in UTC\n",
    "- All deadlines are 11:59 PM PDT\n",
    "\n",
    "![Timezones](img/Timezones.png)\n",
    "\n",
    "TimeZones: https://www.timeanddate.com/time/map/"
   ]
  },
  {
   "cell_type": "markdown",
   "metadata": {
    "slideshow": {
     "slide_type": "slide"
    }
   },
   "source": [
    "\n",
    "<center><img src=\"img/doing_it_right.png\" width=\"900px\"></center>\n"
   ]
  }
 ],
 "metadata": {
  "celltoolbar": "Slideshow",
  "kernelspec": {
   "display_name": "Python 3",
   "language": "python",
   "name": "python3"
  },
  "language_info": {
   "codemirror_mode": {
    "name": "ipython",
    "version": 3
   },
   "file_extension": ".py",
   "mimetype": "text/x-python",
   "name": "python",
   "nbconvert_exporter": "python",
   "pygments_lexer": "ipython3",
   "version": "3.7.0"
  },
  "rise": {
   "scroll": true
  }
 },
 "nbformat": 4,
 "nbformat_minor": 2
}
