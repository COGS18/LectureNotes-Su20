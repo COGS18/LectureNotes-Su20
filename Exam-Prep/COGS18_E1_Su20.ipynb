{
 "cells": [
  {
   "cell_type": "markdown",
   "metadata": {
    "nbgrader": {
     "grade": false,
     "grade_id": "intro",
     "locked": true,
     "schema_version": 3,
     "solution": false
    }
   },
   "source": [
    "# COGS 18 - Exam 1\n",
    "\n",
    "This is the first exam for Summer 2020. It covers topics through the Dictionaries Lecture.\n",
    "\n",
    "This exam is out of 12.5 points, worth 12.5% of your grade.\n",
    "\n",
    "**PLEASE DO NOT CHANGE THE NAME OF THIS FILE.**\n",
    "\n",
    "**PLEASE DO NOT COPY & PASTE OR DELETE CELLS INLCUDED IN THE EXAM.** (Note that you can add additional cells, if you want to test things out.)"
   ]
  },
  {
   "cell_type": "markdown",
   "metadata": {
    "nbgrader": {
     "grade": false,
     "grade_id": "instructions",
     "locked": true,
     "schema_version": 3,
     "solution": false
    }
   },
   "source": [
    "## Instructions\n",
    "\n",
    "#### Timing\n",
    "- The exam is designed to take you ~1 hour.\n",
    "- There will be a 24 hour window during which you can complete this exam.\n",
    "- If it takes you longer than 1 hour, you're free to use that time.\n",
    "\n",
    "#### The Rules\n",
    "- You are to complete this exam on your own.\n",
    "- This is open-notes & open-Google\n",
    "- You may not talk to any humans about this exam. \n",
    "- The following are all *prohibited*:\n",
    "    - text/phone/online chat communication\n",
    "    - posting questions to a message board where a human could respond\n",
    "    - asking anyone via any form about a question on this test directly\n",
    "- Clarification questions will ***not*** be allowed and there will be no posting on Piazza about the exam at all. \n",
    "    - Piazza posts about the exam will not be answered and will be deleted. \n",
    "    - Students who post questions about the exam to Piazza are at risk of losing points on the exam.\n",
    "    - If you are confused about wording, add a note to your exam explaining your confusion and how you interpreted the question. \n",
    "    - Note: This policy is b/c we are incapable of responding for 24h straight. This is the only way to make it fair across the board for students."
   ]
  },
  {
   "cell_type": "markdown",
   "metadata": {
    "nbgrader": {
     "grade": false,
     "grade_id": "note",
     "locked": true,
     "schema_version": 3,
     "solution": false
    }
   },
   "source": [
    " <span style=\"color: red;\">Note: </span> There _is_ a chance for partial credit on some questions, so _some_ code is better than _no_ code. Even if it throws an error, having some code that partially answers the question will benefit you/your grade."
   ]
  },
  {
   "cell_type": "markdown",
   "metadata": {
    "nbgrader": {
     "grade": false,
     "grade_id": "part1",
     "locked": true,
     "schema_version": 3,
     "solution": false
    }
   },
   "source": [
    "## Part 1: Variables & Operators (4 points)"
   ]
  },
  {
   "cell_type": "markdown",
   "metadata": {
    "nbgrader": {
     "grade": false,
     "grade_id": "q1",
     "locked": true,
     "schema_version": 3,
     "solution": false
    }
   },
   "source": [
    "### Q1 - Variables (0.5 points)\n",
    "\n",
    "In the cell below, write five lines of code that define five different variables named `var_float`, `var_str`, and `var_bool`, `var_tuple`, and `var_dict`, storing a float, a string, and a boolean, a tuple, and a dictionary, respectively. \n",
    "\n",
    "You get to choose the specific float, string, boolean, tuple, or dictionary each variable stores; however, they must satisify the following conditions:\n",
    "\n",
    "- var_tuple must store numeric elements\n",
    "- var_float must be less than the first element stored in `var_tuple`\n",
    "- `var_dict` must have strings for its keys\n",
    "- The first key in `var_dict` should be the string stored in `var_str`"
   ]
  },
  {
   "cell_type": "code",
   "execution_count": 13,
   "metadata": {
    "nbgrader": {
     "grade": false,
     "grade_id": "q1a",
     "locked": false,
     "schema_version": 3,
     "solution": true
    }
   },
   "outputs": [],
   "source": [
    "### BEGIN SOLUTION\n",
    "# actual values stored will differ\n",
    "var_float = 0.2\n",
    "var_str = 'cogs18'\n",
    "var_bool = False\n",
    "var_tuple = (1, 2, 3)\n",
    "var_dict = {var_str:1}\n",
    "### END SOLUTION"
   ]
  },
  {
   "cell_type": "code",
   "execution_count": 14,
   "metadata": {
    "nbgrader": {
     "grade": true,
     "grade_id": "q1-t1",
     "locked": true,
     "points": 0.1,
     "schema_version": 3,
     "solution": false
    }
   },
   "outputs": [],
   "source": [
    "# check variable exists\n",
    "assert var_float is not None\n",
    "\n",
    "### BEGIN HIDDEN TESTS\n",
    "assert isinstance(var_float, float)\n",
    "### END HIDDEN TESTS"
   ]
  },
  {
   "cell_type": "code",
   "execution_count": 15,
   "metadata": {
    "nbgrader": {
     "grade": true,
     "grade_id": "q1-t2",
     "locked": true,
     "points": 0.1,
     "schema_version": 3,
     "solution": false
    }
   },
   "outputs": [],
   "source": [
    "assert var_str is not None\n",
    "\n",
    "### BEGIN HIDDEN TESTS\n",
    "assert isinstance(var_str, str)\n",
    "### END HIDDEN TESTS"
   ]
  },
  {
   "cell_type": "code",
   "execution_count": 16,
   "metadata": {
    "nbgrader": {
     "grade": true,
     "grade_id": "q1-t3",
     "locked": true,
     "points": 0.1,
     "schema_version": 3,
     "solution": false
    }
   },
   "outputs": [],
   "source": [
    "assert var_bool is not None\n",
    "\n",
    "### BEGIN HIDDEN TESTS\n",
    "assert isinstance(var_bool, bool)\n",
    "### END HIDDEN TESTS"
   ]
  },
  {
   "cell_type": "code",
   "execution_count": 17,
   "metadata": {
    "nbgrader": {
     "grade": true,
     "grade_id": "q1-t4",
     "locked": true,
     "points": 0.1,
     "schema_version": 3,
     "solution": false
    }
   },
   "outputs": [],
   "source": [
    "assert var_tuple is not None\n",
    "\n",
    "### BEGIN HIDDEN TESTS\n",
    "assert isinstance(var_tuple, tuple)\n",
    "assert var_float < var_tuple[0]\n",
    "### END HIDDEN TESTS"
   ]
  },
  {
   "cell_type": "code",
   "execution_count": 18,
   "metadata": {
    "nbgrader": {
     "grade": true,
     "grade_id": "q1-t5",
     "locked": true,
     "points": 0.1,
     "schema_version": 3,
     "solution": false
    }
   },
   "outputs": [],
   "source": [
    "assert var_dict is not None\n",
    "\n",
    "### BEGIN HIDDEN TESTS\n",
    "assert isinstance(var_dict, dict)\n",
    "assert var_str == list(var_dict.keys())[0]\n",
    "### END HIDDEN TESTS"
   ]
  },
  {
   "cell_type": "markdown",
   "metadata": {
    "nbgrader": {
     "grade": false,
     "grade_id": "q2",
     "locked": true,
     "schema_version": 3,
     "solution": false
    }
   },
   "source": [
    "### Q2 - Math Operators (1 point)\n",
    "\n",
    "In the cell below, create three variables: `var_a`, `var_b`, and `var_c`.\n",
    "\n",
    "These variables must satisfy the following requirements:\n",
    "1. Each variable must be created using *at least two (2) different math operators* (but *can* use more than 2)\n",
    "2. Each variable must store (return) the value 4 (or 4.0). \n",
    "3. Across the creation of these three variables, all seven of the math operators (`+`, `-`, `/`, `*`, `**`, `%`, `//`) discussed in class must be used *at least* once. "
   ]
  },
  {
   "cell_type": "code",
   "execution_count": 19,
   "metadata": {
    "nbgrader": {
     "grade": false,
     "grade_id": "q2a",
     "locked": false,
     "schema_version": 3,
     "solution": true
    }
   },
   "outputs": [],
   "source": [
    "### BEGIN SOLUTION\n",
    "# actual operations will differ\n",
    "var_a = 3 ** 2 // 2 + 0\n",
    "var_b = 4 + 3 - 3\n",
    "var_c = (9 % 5) * 2 / 2 \n",
    "### END SOLUTION"
   ]
  },
  {
   "cell_type": "code",
   "execution_count": 20,
   "metadata": {
    "nbgrader": {
     "grade": true,
     "grade_id": "q2-t1",
     "locked": true,
     "points": 0.2,
     "schema_version": 3,
     "solution": false
    }
   },
   "outputs": [],
   "source": [
    "assert var_a is not None\n",
    "\n",
    "### BEGIN HIDDEN TESTS\n",
    "assert var_a == 4\n",
    "### END HIDDEN TESTS"
   ]
  },
  {
   "cell_type": "code",
   "execution_count": 21,
   "metadata": {
    "nbgrader": {
     "grade": true,
     "grade_id": "q2-t2",
     "locked": true,
     "points": 0.2,
     "schema_version": 3,
     "solution": false
    }
   },
   "outputs": [],
   "source": [
    "assert var_b is not None\n",
    "\n",
    "### BEGIN HIDDEN TESTS\n",
    "assert var_b == 4\n",
    "### END HIDDEN TESTS"
   ]
  },
  {
   "cell_type": "code",
   "execution_count": 22,
   "metadata": {
    "nbgrader": {
     "grade": true,
     "grade_id": "q2-t3",
     "locked": true,
     "points": 0.2,
     "schema_version": 3,
     "solution": false
    }
   },
   "outputs": [],
   "source": [
    "assert var_c is not None\n",
    "\n",
    "### BEGIN HIDDEN TESTS\n",
    "assert var_c == 4\n",
    "### END HIDDEN TESTS"
   ]
  },
  {
   "cell_type": "markdown",
   "metadata": {
    "nbgrader": {
     "grade": false,
     "grade_id": "q2-t4",
     "locked": true,
     "points": 0.4,
     "schema_version": 3,
     "solution": false,
     "task": true
    }
   },
   "source": [
    "**This \"blank\" cell included intentionally.** Do not do anything here. (It's being used in grading.)\n",
    "\n",
    "=== BEGIN MARK SCHEME ===\n",
    "\n",
    "- all seven operators are used (0.2)\n",
    "- at least two operators used per variable (0.2)\n",
    "\n",
    "=== END MARK SCHEME ==="
   ]
  },
  {
   "cell_type": "markdown",
   "metadata": {
    "nbgrader": {
     "grade": false,
     "grade_id": "q3",
     "locked": true,
     "schema_version": 3,
     "solution": false
    }
   },
   "source": [
    "### Q3 - Comparison Operators (1 point)\n",
    "\n",
    "In the cell below, create three variables: `comp_a`, `comp_b`, and `comp_c`.\n",
    "\n",
    "These variables must satisfy the following requirements:\n",
    "\n",
    "1. Each variable must store (aka return) the Boolean `False`\n",
    "2. Additional operators may also be used, but `comp_a` must use the `and` operator; `comp_b` must use the `or` operator, and `comp_c` must use the `not` operator. \n",
    "3. Each variable must be created using *at least two* of the comparison operators (`<`,`>`,`<=`,`>=`,`!=`,`==`).\n",
    "4. All six comparison operators must show up in the cell below *at least once*.\n"
   ]
  },
  {
   "cell_type": "code",
   "execution_count": 23,
   "metadata": {
    "nbgrader": {
     "grade": false,
     "grade_id": "q3a",
     "locked": false,
     "schema_version": 3,
     "solution": true
    }
   },
   "outputs": [],
   "source": [
    "### BEGIN SOLUTION\n",
    "# actual variable creation will differ\n",
    "comp_a = 7 < 6 and 6 < 7\n",
    "comp_b = 3 != 3 or 4 <= 3\n",
    "comp_c = 3 == 3 and not 4 == 4\n",
    "### END SOLUTION"
   ]
  },
  {
   "cell_type": "code",
   "execution_count": 24,
   "metadata": {
    "nbgrader": {
     "grade": true,
     "grade_id": "q3-t1",
     "locked": true,
     "points": 0.2,
     "schema_version": 3,
     "solution": false
    }
   },
   "outputs": [],
   "source": [
    "assert isinstance(comp_a, bool)\n",
    "\n",
    "### BEGIN HIDDEN TESTS\n",
    "assert not comp_a\n",
    "### END HIDDEN TESTS"
   ]
  },
  {
   "cell_type": "code",
   "execution_count": 25,
   "metadata": {
    "nbgrader": {
     "grade": true,
     "grade_id": "q3-t2",
     "locked": true,
     "points": 0.2,
     "schema_version": 3,
     "solution": false
    }
   },
   "outputs": [],
   "source": [
    "assert isinstance(comp_b, bool)\n",
    "\n",
    "### BEGIN HIDDEN TESTS\n",
    "assert not comp_b\n",
    "### END HIDDEN TESTS"
   ]
  },
  {
   "cell_type": "code",
   "execution_count": 26,
   "metadata": {
    "nbgrader": {
     "grade": true,
     "grade_id": "q3-t3",
     "locked": true,
     "points": 0.2,
     "schema_version": 3,
     "solution": false
    }
   },
   "outputs": [],
   "source": [
    "assert isinstance(comp_c, bool)\n",
    "\n",
    "### BEGIN HIDDEN TESTS\n",
    "assert not comp_c\n",
    "### END HIDDEN TESTS"
   ]
  },
  {
   "cell_type": "markdown",
   "metadata": {
    "nbgrader": {
     "grade": false,
     "grade_id": "q3-t4",
     "locked": true,
     "points": 0.4,
     "schema_version": 3,
     "solution": false,
     "task": true
    }
   },
   "source": [
    "**This \"blank\" cell included intentionally.** Do not do anything here. (It's being used in grading.)\n",
    "\n",
    "=== BEGIN MARK SCHEME ===\n",
    "\n",
    "- all six operators are used (0.2)\n",
    "- and, or, or not all used (0.2)\n",
    "\n",
    "=== END MARK SCHEME ===\n"
   ]
  },
  {
   "cell_type": "markdown",
   "metadata": {
    "nbgrader": {
     "grade": false,
     "grade_id": "q4",
     "locked": true,
     "schema_version": 3,
     "solution": false
    }
   },
   "source": [
    "### Q4 - Membership Operators (0.5 points)\n",
    "\n",
    "Using the following string and list provided, create two variables `memb_a` and `memb_b` that satisfy the following conditions:\n",
    "\n",
    "1. `memb_a` must use the `not` operator to check membership in `my_string`. It should store (return) `False`.\n",
    "2. `memb_b` must use the `in` operator to check membership in `my_list`. It should store (return) `True`. \n",
    "3. `memb_a` must refer to the `my_string` variable defined for you below. `memb_b` must refer to the `my_list` variable defined for you below."
   ]
  },
  {
   "cell_type": "code",
   "execution_count": 27,
   "metadata": {
    "nbgrader": {
     "grade": false,
     "grade_id": "q4a",
     "locked": false,
     "schema_version": 3,
     "solution": true
    }
   },
   "outputs": [],
   "source": [
    "# these variables are defined for you - no need to change them\n",
    "my_string = 'I love COGS 18!'\n",
    "my_list = ['Assignments', 'Exams', 'CodingLabs']\n",
    "\n",
    "### BEGIN SOLUTION\n",
    "# actual operations will differ\n",
    "memb_a = 'love' not in my_string\n",
    "memb_b = 'Assignments' in my_list\n",
    "### END SOLUTION"
   ]
  },
  {
   "cell_type": "code",
   "execution_count": 28,
   "metadata": {
    "nbgrader": {
     "grade": true,
     "grade_id": "q4-t1",
     "locked": true,
     "points": 0.25,
     "schema_version": 3,
     "solution": false
    }
   },
   "outputs": [],
   "source": [
    "assert isinstance(memb_a, bool)\n",
    "\n",
    "### BEGIN HIDDEN TESTS\n",
    "assert not memb_a\n",
    "### END HIDDEN TESTS"
   ]
  },
  {
   "cell_type": "code",
   "execution_count": 29,
   "metadata": {
    "nbgrader": {
     "grade": true,
     "grade_id": "q4-t2",
     "locked": true,
     "points": 0.25,
     "schema_version": 3,
     "solution": false
    }
   },
   "outputs": [],
   "source": [
    "assert isinstance(memb_b, bool)\n",
    "\n",
    "### BEGIN HIDDEN TESTS\n",
    "assert memb_b\n",
    "### END HIDDEN TESTS"
   ]
  },
  {
   "cell_type": "markdown",
   "metadata": {
    "nbgrader": {
     "grade": false,
     "grade_id": "q5",
     "locked": true,
     "schema_version": 3,
     "solution": false,
     "task": false
    }
   },
   "source": [
    "### Q5 - Variables (1 point)\n",
    "\n",
    "Consider each of the following scenarios and determine what type of collection (list, tuple, dictionary) would be best to use. For each scenario, store 'list', 'tuple' or 'dictionary' in the variable, depending upon which is best for the given scnenario. (Note: Capitalization and spelling matter.)\n",
    "\n",
    "\n",
    "For example, for `scenario_A`, if you thought the correct answer were 'list' your answer in the answer cell would be:\n",
    "\n",
    "```python\n",
    "scenario_A = 'list'\n",
    "```\n",
    "\n",
    "Scenarios:\n",
    "\n",
    "- `scenario_A` | You want to store the social security numbers (and only the social security numbers) for all the people who were injured at the Battle of Gettysburg.\n",
    "- `scenario_B` | You want to create a record to keep track of the email addresses (and only the email addresses) of all the employees who work at Gettysburg National Park.\n",
    "- `scenario_C` | You want to create registry to keep track of the names and email addresses of all the employees who work at the Gettysburg National Park. \n",
    "- `scenario_D` | You want to store information in such a way that you would be able to loop through all the people who work at Gettysburg National Park and call each person at their cell phone number to update them on a policy."
   ]
  },
  {
   "cell_type": "code",
   "execution_count": 30,
   "metadata": {
    "nbgrader": {
     "grade": false,
     "grade_id": "q5a",
     "locked": false,
     "schema_version": 3,
     "solution": true,
     "task": false
    }
   },
   "outputs": [],
   "source": [
    "### BEGIN SOLUTION\n",
    "scenario_A = 'tuple'\n",
    "scenario_B = 'list'\n",
    "scenario_C = 'dictionary'\n",
    "scenario_D = 'dictionary'\n",
    "### END SOLUTION"
   ]
  },
  {
   "cell_type": "code",
   "execution_count": 31,
   "metadata": {
    "nbgrader": {
     "grade": true,
     "grade_id": "q5-t1",
     "locked": true,
     "points": 0.25,
     "schema_version": 3,
     "solution": false
    }
   },
   "outputs": [],
   "source": [
    "assert scenario_A in ['tuple', 'list', 'dictionary']\n",
    "\n",
    "### BEGIN HIDDEN TESTS\n",
    "assert scenario_A == 'tuple'\n",
    "### END HIDDEN TESTS"
   ]
  },
  {
   "cell_type": "code",
   "execution_count": 32,
   "metadata": {
    "nbgrader": {
     "grade": true,
     "grade_id": "q5-t2",
     "locked": true,
     "points": 0.25,
     "schema_version": 3,
     "solution": false
    }
   },
   "outputs": [],
   "source": [
    "assert scenario_B in ['tuple', 'list', 'dictionary']\n",
    "\n",
    "### BEGIN HIDDEN TESTS\n",
    "assert scenario_B == 'list'\n",
    "### END HIDDEN TESTS"
   ]
  },
  {
   "cell_type": "code",
   "execution_count": 33,
   "metadata": {
    "nbgrader": {
     "grade": true,
     "grade_id": "q5-t3",
     "locked": true,
     "points": 0.25,
     "schema_version": 3,
     "solution": false
    }
   },
   "outputs": [],
   "source": [
    "assert scenario_C in ['tuple', 'list', 'dictionary']\n",
    "\n",
    "### BEGIN HIDDEN TESTS\n",
    "assert scenario_C == 'dictionary'\n",
    "### END HIDDEN TESTS"
   ]
  },
  {
   "cell_type": "code",
   "execution_count": 34,
   "metadata": {
    "nbgrader": {
     "grade": true,
     "grade_id": "g5-t4",
     "locked": true,
     "points": 0.25,
     "schema_version": 3,
     "solution": false
    }
   },
   "outputs": [],
   "source": [
    "assert scenario_D in ['tuple', 'list', 'dictionary']\n",
    "\n",
    "### BEGIN HIDDEN TESTS\n",
    "assert scenario_D == 'dictionary'\n",
    "### END HIDDEN TESTS"
   ]
  },
  {
   "cell_type": "markdown",
   "metadata": {
    "nbgrader": {
     "grade": false,
     "grade_id": "part2",
     "locked": true,
     "schema_version": 3,
     "solution": false
    }
   },
   "source": [
    "## Part 2: Indexing  (1 point)"
   ]
  },
  {
   "cell_type": "markdown",
   "metadata": {
    "nbgrader": {
     "grade": false,
     "grade_id": "q6",
     "locked": true,
     "schema_version": 3,
     "solution": false
    }
   },
   "source": [
    "### Q6 - Indexing (0.5 points)\n",
    "\n",
    "*Using the list `cogs18` provided below and indexing*, write the line of code you would use to index the list and return the specified output:\n",
    "\n",
    "1. `['Geoff', 'Jose', 'Paul']`  (Store in `ind_a`)\n",
    "2. `['Jose', 'Sylvia']` (Store in `ind_b`)\n",
    "3. `['Prof', 'Sylvia', 'Taylor']` (Store in `ind_c`; ***use negative indexing***)"
   ]
  },
  {
   "cell_type": "code",
   "execution_count": 35,
   "metadata": {
    "nbgrader": {
     "grade": false,
     "grade_id": "q6a",
     "locked": false,
     "schema_version": 3,
     "solution": true
    }
   },
   "outputs": [],
   "source": [
    "# list below provided for you\n",
    "cogs18 = ['Geoff', 'Jose', 'Paul', 'Prof', 'Sylvia', 'Taylor']\n",
    "\n",
    "### BEGIN SOLUTION\n",
    "ind_a = cogs18[:3]\n",
    "ind_b = cogs18[1::3]\n",
    "ind_c = cogs18[-3:]\n",
    "### END SOLUTION"
   ]
  },
  {
   "cell_type": "code",
   "execution_count": 36,
   "metadata": {
    "nbgrader": {
     "grade": true,
     "grade_id": "q6-t1",
     "locked": true,
     "points": 0.05,
     "schema_version": 3,
     "solution": false
    }
   },
   "outputs": [],
   "source": [
    "assert isinstance(ind_a, list)\n",
    "\n",
    "### BEGIN HIDDEN TESTS\n",
    "assert ind_a == ['Geoff', 'Jose', 'Paul']\n",
    "### END HIDDEN TESTS"
   ]
  },
  {
   "cell_type": "code",
   "execution_count": 37,
   "metadata": {
    "nbgrader": {
     "grade": true,
     "grade_id": "q6-t2",
     "locked": true,
     "points": 0.05,
     "schema_version": 3,
     "solution": false
    }
   },
   "outputs": [],
   "source": [
    "assert isinstance(ind_b, list)\n",
    "\n",
    "### BEGIN HIDDEN TESTS\n",
    "assert ind_b == ['Jose', 'Sylvia']\n",
    "### END HIDDEN TESTS"
   ]
  },
  {
   "cell_type": "code",
   "execution_count": 38,
   "metadata": {
    "nbgrader": {
     "grade": true,
     "grade_id": "q6-t3",
     "locked": true,
     "points": 0.05,
     "schema_version": 3,
     "solution": false
    }
   },
   "outputs": [],
   "source": [
    "assert isinstance(ind_c, list)\n",
    "\n",
    "### BEGIN HIDDEN TESTS\n",
    "assert ind_c == ['Prof', 'Sylvia', 'Taylor']\n",
    "### END HIDDEN TESTS"
   ]
  },
  {
   "cell_type": "markdown",
   "metadata": {
    "nbgrader": {
     "grade": false,
     "grade_id": "q6-t4",
     "locked": true,
     "points": 0.35,
     "schema_version": 3,
     "solution": false,
     "task": true
    }
   },
   "source": [
    "**This \"blank\" cell included intentionally.** Do not do anything here. (It's being used in grading.)\n",
    "\n",
    "=== BEGIN MARK SCHEME ===\n",
    "\n",
    "- does not hard code (0.25)\n",
    "- negative indexing used when creating `ind_c` (0.1)\n",
    "\n",
    "=== END MARK SCHEME ==="
   ]
  },
  {
   "cell_type": "markdown",
   "metadata": {
    "nbgrader": {
     "grade": false,
     "grade_id": "q7",
     "locked": true,
     "schema_version": 3,
     "solution": false
    }
   },
   "source": [
    "### Q7 - Dictionaries (0.5 points)\n",
    "\n",
    "Create three variables ***using the dictionary `cogs18_dict` provided*** below and functions discussed in class that will store the variable specified:\n",
    "\n",
    "1. `dict_a`: stores 'Prof'\n",
    "2. `dict_b`: stores 'dict' (or, when printed: `<class 'dict'>`)\n",
    "3. `dict_c`: stores `6`\n",
    "\n",
    "Note: each variable's line of code must have `cogs18_dict` as part of your code. (1 point)"
   ]
  },
  {
   "cell_type": "code",
   "execution_count": 39,
   "metadata": {
    "nbgrader": {
     "grade": false,
     "grade_id": "q7a",
     "locked": false,
     "schema_version": 3,
     "solution": true
    },
    "scrolled": true
   },
   "outputs": [],
   "source": [
    "cogs18_dict = {'Paul' : 'TA',  'Sylvia' : 'TA', 'Jose' : 'IA', \n",
    "               'Taylor': 'IA', 'Geoff': 'IA', 'Ellis' : 'Prof'}\n",
    "\n",
    "### BEGIN SOLUTION\n",
    "dict_a = cogs18_dict['Ellis']\n",
    "dict_b = type(cogs18_dict)\n",
    "dict_c = len(cogs18_dict)\n",
    "### END SOLUTION"
   ]
  },
  {
   "cell_type": "code",
   "execution_count": 40,
   "metadata": {
    "nbgrader": {
     "grade": true,
     "grade_id": "q7-t1",
     "locked": true,
     "points": 0.05,
     "schema_version": 3,
     "solution": false
    }
   },
   "outputs": [],
   "source": [
    "assert dict_a\n",
    "\n",
    "### BEGIN HIDDEN TESTS\n",
    "assert dict_a == 'Prof'\n",
    "### END HIDDEN TESTS"
   ]
  },
  {
   "cell_type": "code",
   "execution_count": 41,
   "metadata": {
    "nbgrader": {
     "grade": true,
     "grade_id": "q7-t2",
     "locked": true,
     "points": 0.05,
     "schema_version": 3,
     "solution": false
    }
   },
   "outputs": [],
   "source": [
    "assert dict_b\n",
    "\n",
    "### BEGIN HIDDEN TESTS\n",
    "assert dict_b == dict\n",
    "### END HIDDEN TESTS"
   ]
  },
  {
   "cell_type": "code",
   "execution_count": 42,
   "metadata": {
    "nbgrader": {
     "grade": true,
     "grade_id": "q7-t3",
     "locked": true,
     "points": 0.05,
     "schema_version": 3,
     "solution": false
    }
   },
   "outputs": [],
   "source": [
    "assert dict_c\n",
    "\n",
    "### BEGIN HIDDEN TESTS\n",
    "assert dict_c == 6\n",
    "### END HIDDEN TESTS"
   ]
  },
  {
   "cell_type": "markdown",
   "metadata": {
    "nbgrader": {
     "grade": false,
     "grade_id": "cell-fe3e8da39d3f07ef",
     "locked": true,
     "points": 0.35,
     "schema_version": 3,
     "solution": false,
     "task": true
    }
   },
   "source": [
    "**This \"blank\" cell included intentionally.** Do not do anything here. (It's being used in grading.)\n",
    "\n",
    "\n",
    "=== BEGIN MARK SCHEME ===\n",
    "\n",
    "- cogs18_dict referenced in all three variables (not hard-coded) (0.35)\n",
    "\n",
    "=== END MARK SCHEME ===\n"
   ]
  },
  {
   "cell_type": "markdown",
   "metadata": {
    "nbgrader": {
     "grade": false,
     "grade_id": "part3",
     "locked": true,
     "schema_version": 3,
     "solution": false
    }
   },
   "source": [
    "## Part 3: Control Flow - Conditionals & Loops  (7.5 points)"
   ]
  },
  {
   "cell_type": "markdown",
   "metadata": {
    "nbgrader": {
     "grade": false,
     "grade_id": "q8",
     "locked": true,
     "schema_version": 3,
     "solution": false
    }
   },
   "source": [
    "### Q8 - `for` loop (2.5 points)\n",
    "\n",
    "Store your first name as a string in the variable `my_name` and initialize a `counter` (use that variable name).\n",
    "\n",
    "Then, write a `for` loop that loops through the letters of your first name, increasing the counter by one for each consonant (non-vowel) in your name. \n",
    "\n",
    "The value stored in the counter at the end of your loop’s execution should be the number of consonants in your first name. Be sure that 'B' and 'b' are counted as the same letter in your code.\n"
   ]
  },
  {
   "cell_type": "code",
   "execution_count": 43,
   "metadata": {
    "nbgrader": {
     "grade": false,
     "grade_id": "q8a",
     "locked": false,
     "schema_version": 3,
     "solution": true
    }
   },
   "outputs": [],
   "source": [
    "### BEGIN SOLUTION\n",
    "# code will differ based on who is taking the exam\n",
    "my_name = 'Shannon'\n",
    "counter = 0\n",
    "\n",
    "for char in my_name:\n",
    "    char = char.lower()\n",
    "    if char not in ['a', 'e', 'i', 'o', 'u']:\n",
    "        counter += 1\n",
    "### END SOLUTION"
   ]
  },
  {
   "cell_type": "code",
   "execution_count": 44,
   "metadata": {
    "nbgrader": {
     "grade": true,
     "grade_id": "q8-t1",
     "locked": true,
     "points": 1,
     "schema_version": 3,
     "solution": false
    }
   },
   "outputs": [],
   "source": [
    "assert isinstance(counter, int)\n",
    "assert isinstance(my_name, str)\n",
    "\n",
    "### BEGIN HIDDEN TESTS\n",
    "count = 0\n",
    "\n",
    "for char in my_name:\n",
    "    char = char.lower()\n",
    "    if char not in ['a', 'e', 'i', 'o', 'u']:\n",
    "        count += 1\n",
    "        \n",
    "assert counter == count\n",
    "### END HIDDEN TESTS"
   ]
  },
  {
   "cell_type": "markdown",
   "metadata": {
    "nbgrader": {
     "grade": false,
     "grade_id": "q8-t2",
     "locked": true,
     "points": 1.5,
     "schema_version": 3,
     "solution": false,
     "task": true
    }
   },
   "source": [
    "**This \"blank\" cell included intentionally.** Do not do anything here. (It's being used in grading.)\n",
    "\n",
    "\n",
    "=== BEGIN MARK SCHEME ===\n",
    "\n",
    "- counter & my_name created (0.25 points)\n",
    "- for loop initialized correctly (0.25 points)\n",
    "- capitalization accounted for (0.5 points)\n",
    "- conditional correct (0.5 points)\n",
    "\n",
    "=== END MARK SCHEME ==="
   ]
  },
  {
   "cell_type": "markdown",
   "metadata": {
    "nbgrader": {
     "grade": false,
     "grade_id": "q9",
     "locked": true,
     "schema_version": 3,
     "solution": false
    }
   },
   "source": [
    "### Q9 - `dictionary` (3.5 points)\n",
    "\n",
    "Write code that will generate a dictionary `name_consonants` that stores each consonant letter in `my_name` (defined in previous question) as a key in the dictionary, and the number of times each consonant shows up in `my_name` as the letter's value. \n",
    "\n",
    "Noe that this code should run, regardless of what string is stored in `my_name`.\n",
    "\n",
    "For example, `name_consonants` for 'Shannon' would return:\n",
    "\n",
    "```\n",
    "{'s': 1, 'h': 1, 'n': 3}\n",
    "```\n",
    "\n",
    "Note that if you have no consonants in your name, this code would still run, but would return an empty dictionary."
   ]
  },
  {
   "cell_type": "code",
   "execution_count": 45,
   "metadata": {
    "nbgrader": {
     "grade": false,
     "grade_id": "q9a",
     "locked": false,
     "schema_version": 3,
     "solution": true
    }
   },
   "outputs": [],
   "source": [
    "### BEGIN SOLUTION\n",
    "# output will differ based on who is taking the exam\n",
    "name_consonants = {}\n",
    "\n",
    "vowels = ['a', 'e', 'i', 'o', 'u']\n",
    "            \n",
    "for char in my_name:\n",
    "    char = char.lower()\n",
    "    if char not in vowels:\n",
    "        if char not in name_consonants:\n",
    "            name_consonants[char] = 1\n",
    "        else:\n",
    "            name_consonants[char] += 1            \n",
    "### END SOLUTION"
   ]
  },
  {
   "cell_type": "code",
   "execution_count": 46,
   "metadata": {
    "nbgrader": {
     "grade": true,
     "grade_id": "q9-t1",
     "locked": true,
     "points": 1,
     "schema_version": 3,
     "solution": false
    }
   },
   "outputs": [
    {
     "name": "stdout",
     "output_type": "stream",
     "text": [
      "{'S': 1, 'h': 1, 'n': 3}\n",
      "{'s': 1, 'h': 1, 'n': 3}\n"
     ]
    }
   ],
   "source": [
    "assert isinstance(name_consonants, dict)\n",
    "\n",
    "### BEGIN HIDDEN TESTS\n",
    "check = {}\n",
    "check_alt = {}\n",
    "\n",
    "for char in my_name:\n",
    "    if char not in ['a', 'e', 'i', 'o', 'u', 'A', 'E', 'I', 'O', 'U']:\n",
    "        if char not in check:\n",
    "            check[char] = 1\n",
    "        else:\n",
    "            check[char] += 1\n",
    "print(check)\n",
    "\n",
    "for char in my_name:\n",
    "    char = char.lower()\n",
    "    if char not in ['a','e', 'i', 'o', 'u']:\n",
    "        if char not in check_alt:\n",
    "            check_alt[char] = 1\n",
    "        else:\n",
    "            check_alt[char] += 1\n",
    "print(check_alt)\n",
    "            \n",
    "\n",
    "assert name_consonants == check or name_consonants == check_alt\n",
    "### END HIDDEN TESTS"
   ]
  },
  {
   "cell_type": "markdown",
   "metadata": {
    "nbgrader": {
     "grade": false,
     "grade_id": "q9-t2",
     "locked": true,
     "points": 2.5,
     "schema_version": 3,
     "solution": false,
     "task": true
    }
   },
   "source": [
    "**This \"blank\" cell included intentionally.** Do not do anything here. (It's being used in grading.)\n",
    "\n",
    "\n",
    "=== BEGIN MARK SCHEME ===\n",
    "\n",
    "- refers back to my_name variable (0.5 points)\n",
    "- for loop initialized correctly (0.5 points)\n",
    "- capitalization accounted for (0.5 points)\n",
    "- conditional correct (0.5 points)\n",
    "- dictionary incremented correctly (0.5 points)\n",
    "\n",
    "=== END MARK SCHEME ==="
   ]
  },
  {
   "cell_type": "markdown",
   "metadata": {
    "nbgrader": {
     "grade": false,
     "grade_id": "q10",
     "locked": true,
     "schema_version": 3,
     "solution": false
    }
   },
   "source": [
    "### Q10 - Loops (1.5 points)\n",
    "\n",
    "Write code that will loop through the `name_consonants` dictionary created in the previous question and store the sum of the values in the dictionary into `consonant_count`. (For the name Shannon, `consonant_count` would store 5).\n",
    "\n",
    "Be sure your answer refers back to `name_consonants` defined in the previous question"
   ]
  },
  {
   "cell_type": "code",
   "execution_count": 47,
   "metadata": {
    "nbgrader": {
     "grade": false,
     "grade_id": "q10a",
     "locked": false,
     "schema_version": 3,
     "solution": true
    }
   },
   "outputs": [],
   "source": [
    "### BEGIN SOLUTION\n",
    "# output will differ based on who is taking the exam\n",
    "consonant_count = 0\n",
    "\n",
    "for key in name_consonants:\n",
    "    consonant_count += name_consonants[key]\n",
    "### END SOLUTION"
   ]
  },
  {
   "cell_type": "code",
   "execution_count": 48,
   "metadata": {
    "nbgrader": {
     "grade": true,
     "grade_id": "q10-t1",
     "locked": true,
     "points": 0.5,
     "schema_version": 3,
     "solution": false
    }
   },
   "outputs": [],
   "source": [
    "assert consonant_count is not None\n",
    "\n",
    "### BEGIN HIDDEN TESTS\n",
    "check = 0\n",
    "\n",
    "for key in name_consonants:\n",
    "    check += name_consonants[key]\n",
    "    \n",
    "assert consonant_count == check\n",
    "### END HIDDEN TESTS"
   ]
  },
  {
   "cell_type": "markdown",
   "metadata": {
    "nbgrader": {
     "grade": false,
     "grade_id": "q10-t2",
     "locked": true,
     "points": 1,
     "schema_version": 3,
     "solution": false,
     "task": true
    }
   },
   "source": [
    "##### **This \"blank\" cell included intentionally.** Do not do anything here. (It's being used in grading.)\n",
    "\n",
    "\n",
    "=== BEGIN MARK SCHEME ===\n",
    "\n",
    "- counter initialized (0.25)\n",
    "- for loop correct (0.25)\n",
    "- accessing dictionary/increase counter correct (0.5)\n",
    "\n",
    "=== END MARK SCHEME ==="
   ]
  },
  {
   "cell_type": "markdown",
   "metadata": {
    "nbgrader": {
     "grade": false,
     "grade_id": "fin",
     "locked": true,
     "schema_version": 3,
     "solution": false
    }
   },
   "source": [
    "### Submit on Datahub\n",
    "\n",
    "Good work - you're done!\n",
    "\n",
    "Check your work, and then when you're ready, **submit on datahub**.\n",
    "\n",
    "We will not have your exam until you click submit and see this show up under 'submitted assignments'."
   ]
  }
 ],
 "metadata": {
  "kernelspec": {
   "display_name": "Python 3",
   "language": "python",
   "name": "python3"
  },
  "language_info": {
   "codemirror_mode": {
    "name": "ipython",
    "version": 3
   },
   "file_extension": ".py",
   "mimetype": "text/x-python",
   "name": "python",
   "nbconvert_exporter": "python",
   "pygments_lexer": "ipython3",
   "version": "3.7.0"
  }
 },
 "nbformat": 4,
 "nbformat_minor": 2
}
