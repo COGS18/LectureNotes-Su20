{
 "cells": [
  {
   "cell_type": "markdown",
   "metadata": {
    "nbgrader": {
     "grade": false,
     "grade_id": "intro",
     "locked": true,
     "schema_version": 3,
     "solution": false
    }
   },
   "source": [
    "# COGS 18 - Exam 2\n",
    "\n",
    "This is the second exam for Summer 2020. It covers topics through the Namespaces Lecture.\n",
    "\n",
    "This total exam is out of 12.5 points, worth 12.5% of your grade. \n",
    "\n",
    "**PLEASE DO NOT CHANGE THE NAME OF THIS FILE.**\n",
    "\n",
    "**PLEASE DO NOT COPY & PASTE OR DELETE CELLS INLCUDED IN THE EXAM.** (Note that you can add additional cells, if you want to test things out."
   ]
  },
  {
   "cell_type": "markdown",
   "metadata": {
    "nbgrader": {
     "grade": false,
     "grade_id": "instructions1",
     "locked": true,
     "schema_version": 3,
     "solution": false
    }
   },
   "source": [
    "## Instructions\n",
    "\n",
    "#### Timing\n",
    "- The exam is designed to take you ~1 hour.\n",
    "- There will be a 24 hour window during which you can complete this exam.\n",
    "- If it takes you longer than 1 hour, you're free to use that time.\n",
    "\n",
    "#### The Rules\n",
    "- You are to complete this exam on your own.\n",
    "- This is open-notes & open-Google\n",
    "- You may not talk to any humans about this exam. \n",
    "- The following are all *prohibited*:\n",
    "    - text/phone/online chat communication\n",
    "    - posting questions to a message board where a human could respond\n",
    "    - asking anyone via any form about a question on this test directly\n",
    "- Clarification questions will ***not*** be allowed and there will be no posting on Piazza about the exam at all. \n",
    "    - Piazza posts about the exam will not be answered and will be deleted. \n",
    "    - Students who post questions about the exam to Piazza are at risk of losing points on the exam.\n",
    "    - If you are confused about wording, add a note to your exam explaining your confusion and how you interpreted the question. \n",
    "    - Note: This policy is b/c we are incapable of responding for 24h straight. This is the only way to make it fair across the board for students."
   ]
  },
  {
   "cell_type": "markdown",
   "metadata": {
    "nbgrader": {
     "grade": false,
     "grade_id": "instructions2",
     "locked": true,
     "schema_version": 3,
     "solution": false
    }
   },
   "source": [
    " <span style=\"color: red;\">Note: </span> There _is_ a chance for partial credit on some questions, so _some_ code is better than _no_ code. Even if it throws an error, having some code that partially answers the question will benefit you/your grade."
   ]
  },
  {
   "cell_type": "markdown",
   "metadata": {
    "nbgrader": {
     "grade": false,
     "grade_id": "part1",
     "locked": true,
     "schema_version": 3,
     "solution": false
    }
   },
   "source": [
    "## Part 1: E1 Review (2.25 points)"
   ]
  },
  {
   "cell_type": "markdown",
   "metadata": {
    "nbgrader": {
     "grade": false,
     "grade_id": "q1",
     "locked": true,
     "schema_version": 3,
     "solution": false
    }
   },
   "source": [
    "### Q1 - Variables & Indexing (0.75 points)\n",
    "\n",
    "Define a tuple `my_tuple` that stores 6 items: 2 integers, 1 dictionary, 2 lists, and 1 float (in any order).\n",
    "\n",
    "Then, write code that (*using indexing*) accomplishes the following:\n",
    "\n",
    "1. Store the second element of `my_tuple` in the variable `tuple_out_a`\n",
    "2. Store the second element from the end of of `my_tuple` in the variable `tuple_out_b`\n",
    "\n",
    "Note: \"element\" refers to the position in the list - so the element at index 0 is the *first* element in any list."
   ]
  },
  {
   "cell_type": "code",
   "execution_count": 1,
   "metadata": {
    "nbgrader": {
     "grade": false,
     "grade_id": "q1-solution",
     "locked": false,
     "schema_version": 3,
     "solution": true
    }
   },
   "outputs": [],
   "source": [
    "### BEGIN SOLUTION\n",
    "my_tuple = (1, 2, {'a': 3}, [1, 2], [3, 4], 1.3)\n",
    "tuple_out_a = my_tuple[1]\n",
    "tuple_out_b = my_tuple[-2]\n",
    "### END SOLUTION"
   ]
  },
  {
   "cell_type": "code",
   "execution_count": 2,
   "metadata": {
    "nbgrader": {
     "grade": true,
     "grade_id": "q1-test1",
     "locked": true,
     "points": 0.1,
     "schema_version": 3,
     "solution": false
    }
   },
   "outputs": [],
   "source": [
    "assert my_tuple is not None\n",
    "\n",
    "### BEGIN HIDDEN TESTS\n",
    "assert type(my_tuple) == tuple\n",
    "assert len(my_tuple) == 6\n",
    "### END HIDDEN TESTS"
   ]
  },
  {
   "cell_type": "code",
   "execution_count": 3,
   "metadata": {
    "nbgrader": {
     "grade": true,
     "grade_id": "q1-test2",
     "locked": true,
     "points": 0.15,
     "schema_version": 3,
     "solution": false
    }
   },
   "outputs": [],
   "source": [
    "assert my_tuple\n",
    "\n",
    "### BEGIN HIDDEN TESTS\n",
    "# check for specific type satistfied\n",
    "num_int = 0\n",
    "num_list = 0\n",
    "num_dict = 0\n",
    "num_float = 0\n",
    "\n",
    "for el in my_tuple: \n",
    "    if type(el) == int: \n",
    "        num_int += 1\n",
    "    if type(el) == list:\n",
    "        num_list += 1\n",
    "    if type(el) == dict:\n",
    "        num_dict += 1\n",
    "    if type(el) == float:\n",
    "        num_float += 1\n",
    "               \n",
    "assert num_int == 2\n",
    "assert num_list == 2\n",
    "assert num_dict == 1\n",
    "assert num_float == 1\n",
    "### END HIDDEN TESTS"
   ]
  },
  {
   "cell_type": "code",
   "execution_count": 4,
   "metadata": {
    "nbgrader": {
     "grade": true,
     "grade_id": "q1-test3",
     "locked": true,
     "points": 0.25,
     "schema_version": 3,
     "solution": false
    }
   },
   "outputs": [],
   "source": [
    "assert tuple_out_a is not None\n",
    "\n",
    "### BEGIN HIDDEN TESTS\n",
    "assert tuple_out_a == my_tuple[1]\n",
    "### END HIDDEN TESTS"
   ]
  },
  {
   "cell_type": "code",
   "execution_count": 5,
   "metadata": {
    "nbgrader": {
     "grade": true,
     "grade_id": "q3-test4",
     "locked": true,
     "points": 0.25,
     "schema_version": 3,
     "solution": false
    }
   },
   "outputs": [],
   "source": [
    "assert tuple_out_b is not None\n",
    "\n",
    "### BEGIN HIDDEN TESTS\n",
    "assert tuple_out_b == my_tuple[-2]\n",
    "### END HIDDEN TESTS"
   ]
  },
  {
   "cell_type": "markdown",
   "metadata": {
    "nbgrader": {
     "grade": false,
     "grade_id": "q2",
     "locked": true,
     "schema_version": 3,
     "solution": false
    }
   },
   "source": [
    "### Q2 - Loops (0.5 points)\n",
    "\n",
    "Write code that will extract the lists from the `my_tuple` variable you created in the previous question, storing all values from the lists into a single, new list called `list_output`.\n",
    "\n",
    "For example, if you had two lists `['a', 'b']` and `[1, 2]` in `my_tuple`, the output would be either `['a', 'b', 1, 2]` or `[1, 2, 'a', 'b']` (you get to decide which list comes first in `list_output`).\n",
    "\n",
    "A reminder: to combine the elements from two lists together, you _can_ use the `+` operator. (i.e.: `['a', 'b'] + [1, 2]`)\n",
    "\n",
    "Note: This code should work regardless of what specific values you've stored in `my_tuple`. If I were to change `my_tuple` (as long as it still contained two lists, as specified in Q1), this code should work to accomplish the task. In other words: don't hard-code. Use code constructs we've discussed in class to accomplish this task."
   ]
  },
  {
   "cell_type": "code",
   "execution_count": 6,
   "metadata": {
    "nbgrader": {
     "grade": false,
     "grade_id": "q2-solution",
     "locked": false,
     "schema_version": 3,
     "solution": true
    }
   },
   "outputs": [
    {
     "data": {
      "text/plain": [
       "[1, 2, 3, 4]"
      ]
     },
     "execution_count": 6,
     "metadata": {},
     "output_type": "execute_result"
    }
   ],
   "source": [
    "### BEGIN SOLUTION\n",
    "# output will differ based on who is taking the exam\n",
    "list_output = []\n",
    "\n",
    "for my_list in my_tuple:\n",
    "    if type(my_list) == list:\n",
    "        list_output = list_output + my_list\n",
    "        \n",
    "list_output\n",
    "### END SOLUTION"
   ]
  },
  {
   "cell_type": "code",
   "execution_count": 7,
   "metadata": {
    "nbgrader": {
     "grade": true,
     "grade_id": "q2-test1",
     "locked": true,
     "points": 0.25,
     "schema_version": 3,
     "solution": false
    }
   },
   "outputs": [],
   "source": [
    "assert list_output is not None\n",
    "\n",
    "### BEGIN HIDDEN TESTS\n",
    "assert isinstance(list_output, list)\n",
    "\n",
    "check_list_output = []\n",
    "\n",
    "for my_list in my_tuple:\n",
    "    if type(my_list) == list:\n",
    "        check_list_output = check_list_output + my_list\n",
    "        \n",
    "assert set(check_list_output) == set(list_output)\n",
    "### END HIDDEN TESTS"
   ]
  },
  {
   "cell_type": "markdown",
   "metadata": {
    "nbgrader": {
     "grade": false,
     "grade_id": "cell-96fc8acc8fb822fd",
     "locked": true,
     "points": 0.25,
     "schema_version": 3,
     "solution": false,
     "task": true
    }
   },
   "source": [
    "**This \"blank\" cell included intentionally.** Do not do anything here. (It's being used in grading.)\n",
    "\n",
    "=== BEGIN MARK SCHEME ===\n",
    "\n",
    "- list_output created (0.05)\n",
    "- correctly accesses lists in `my_tuple` (0.1)\n",
    "- creates output list correctly (0.1) \n",
    "\n",
    "=== END MARK SCHEME ==="
   ]
  },
  {
   "cell_type": "markdown",
   "metadata": {
    "nbgrader": {
     "grade": false,
     "grade_id": "q3",
     "locked": true,
     "schema_version": 3,
     "solution": false
    }
   },
   "source": [
    "### Q3 - Writing code to accomplish a task (1 point)\n",
    "\n",
    "`summer` provided below stores the activities of (fictional) students in COGS 18 this summer. Use this dictionary  to complete this task. (In other words, run the cell below and then use the `summer` dictionary in your answer.)\n",
    "\n",
    "**The task**: Take a look at the dictionary below and write code that will extract all the possible student activities (using the key `activity` from the inner-dictionary) and compile all of the student activities into a singe list `activity_out`. `activity_out` should contain a single list of strings with each element corresponding to one the activities listed in the values for the the 'activity' key (from the inner dictionary). \n",
    "\n",
    "For example if the dictionary were `{'Shannon': {'job': ['professor'], 'activity': ['beach volleyball', 'baking']}}`, the code in your answer should return `['beach volleyball', 'baking']`.\n",
    "\n",
    "Each activity should show up in `activity_out` as many times as it shows up in the inner list for the 'activity' key across the `summer` dictionary (some strings may show up more than once).\n",
    "\n",
    "Your response should use code constructs discussed in class (i.e conditionals, loops, operators, etc.) to carry out the process specified. You should *not* \"hard-code\" the answer."
   ]
  },
  {
   "cell_type": "markdown",
   "metadata": {},
   "source": [
    "#### <span style=\"color:red\">Common Mistake(s):</span>\n",
    "- output contained a list of lists, rather than a list of individual values"
   ]
  },
  {
   "cell_type": "code",
   "execution_count": 8,
   "metadata": {
    "nbgrader": {
     "grade": false,
     "grade_id": "q3-dictionary",
     "locked": true,
     "schema_version": 3,
     "solution": false,
     "task": false
    }
   },
   "outputs": [],
   "source": [
    "# The following dictionary provided for you\n",
    "summer = {'Amir':{'job' : ['internship'], \n",
    "                  'activity' : ['walk dog']},\n",
    "         'Quynh':{'activity' : ['baking', 'reading']},\n",
    "         'George':{'job' : ['Amazon'], \n",
    "                   'activity' : ['cook', 'workout']},\n",
    "         'Camilla':{'activity' : ['practice foreign languages']},\n",
    "         'Rachel':{'activity' : ['video games', 'read', 'paint']},\n",
    "         'Sebi':{'activity' : ['skateboard', 'video games'],\n",
    "                  'job' : ['internship']},\n",
    "         'Alma':{'activity' : ['plant enthusiast', 'hiking', 'baking']}\n",
    "          }   "
   ]
  },
  {
   "cell_type": "code",
   "execution_count": 36,
   "metadata": {
    "nbgrader": {
     "grade": false,
     "grade_id": "q3-solution",
     "locked": false,
     "schema_version": 3,
     "solution": true
    }
   },
   "outputs": [],
   "source": [
    "### BEGIN SOLUTION\n",
    "activity_out = [] \n",
    "\n",
    "for key, val in summer.items():\n",
    "    activity_list = val['activity']\n",
    "    activity_out = activity_out + activity_list\n",
    "\n",
    "### END SOLUTION"
   ]
  },
  {
   "cell_type": "code",
   "execution_count": 10,
   "metadata": {
    "nbgrader": {
     "grade": true,
     "grade_id": "q3-test1",
     "locked": true,
     "points": 0.25,
     "schema_version": 3,
     "solution": false
    }
   },
   "outputs": [],
   "source": [
    "assert isinstance(activity_out, list)\n",
    "\n",
    "### BEGIN HIDDEN TESTS\n",
    "activity_set = set(['walk dog',\n",
    " 'baking',\n",
    " 'reading',\n",
    " 'cook',\n",
    " 'workout',\n",
    " 'practice foreign languages',\n",
    " 'video games',\n",
    " 'read',\n",
    " 'paint',\n",
    " 'skateboard',\n",
    " 'video games',\n",
    " 'plant enthusiast',\n",
    " 'hiking',\n",
    " 'baking'])\n",
    "\n",
    "assert set(activity_out) == activity_set\n",
    "### END HIDDEN TESTS"
   ]
  },
  {
   "cell_type": "markdown",
   "metadata": {
    "nbgrader": {
     "grade": false,
     "grade_id": "q3-test2",
     "locked": true,
     "points": 0.75,
     "schema_version": 3,
     "solution": false,
     "task": true
    }
   },
   "source": [
    "**This \"blank\" cell included intentionally.** Do not do anything here. (It's being used in grading.)\n",
    "\n",
    "=== BEGIN MARK SCHEME ===\n",
    "\n",
    "- answer not hard coded(0.25)                                                                        \n",
    "- activity key accessed correctly (0.25)\n",
    "- output list generated correctly (0.25)\n",
    "                                                                        \n",
    "=== END MARK SCHEME ==="
   ]
  },
  {
   "cell_type": "markdown",
   "metadata": {
    "nbgrader": {
     "grade": false,
     "grade_id": "part2",
     "locked": true,
     "schema_version": 3,
     "solution": false
    }
   },
   "source": [
    "## Part 2: Functions (5.25 points)"
   ]
  },
  {
   "cell_type": "markdown",
   "metadata": {
    "nbgrader": {
     "grade": false,
     "grade_id": "q4",
     "locked": true,
     "schema_version": 3,
     "solution": false,
     "task": false
    }
   },
   "source": [
    "### Q4 - Function execution (0.75 points)\n",
    "\n",
    "The cell below includes a function that has been provided for you. After running the cell below (to define this function), execute (use) this function to create the following variables under the specified conditions:\n",
    "\n",
    "1. `out_olivia` | execute the `provide_info` function providing only the `name` 'Olivia' and the `year` 'freshman' as input\n",
    "2. `out_jamal` | execute `provide_info` using same `year` as above, but so that the output stores the name 'Jamal' and the `school` indicates that Jamal attends 'UCLA'.\n",
    "\n",
    "Note: Capitalization and spelling matter here, so be sure the strings specified are exactly the strings you use."
   ]
  },
  {
   "cell_type": "code",
   "execution_count": 11,
   "metadata": {
    "nbgrader": {
     "grade": false,
     "grade_id": "q4-funct",
     "locked": true,
     "schema_version": 3,
     "solution": false,
     "task": false
    }
   },
   "outputs": [],
   "source": [
    "def provide_info(name, year, school='UCSD'):\n",
    "    \n",
    "    output = \"Hi. I'm \" + name + '. I am a ' + year + ' at ' + school + '.'\n",
    "    \n",
    "    return output"
   ]
  },
  {
   "cell_type": "code",
   "execution_count": 12,
   "metadata": {},
   "outputs": [],
   "source": [
    "# BE SURE YOUR ANSWER IS IN THE CELL BELOW\n",
    "# but you can use this cell to test/execute/check your thinking (optional)"
   ]
  },
  {
   "cell_type": "code",
   "execution_count": 13,
   "metadata": {
    "nbgrader": {
     "grade": false,
     "grade_id": "q4-solution",
     "locked": false,
     "schema_version": 3,
     "solution": true,
     "task": false
    }
   },
   "outputs": [],
   "source": [
    "### BEGIN SOLUTION\n",
    "out_olivia = provide_info('Olivia', 'freshman')\n",
    "out_jamal = provide_info('Jamal', 'freshman', 'UCLA')\n",
    "### END SOLUTION"
   ]
  },
  {
   "cell_type": "code",
   "execution_count": 14,
   "metadata": {
    "nbgrader": {
     "grade": true,
     "grade_id": "q4-test1",
     "locked": true,
     "points": 0.25,
     "schema_version": 3,
     "solution": false,
     "task": false
    }
   },
   "outputs": [],
   "source": [
    "assert isinstance(out_olivia, str)\n",
    "\n",
    "### BEGIN HIDDEN TESTS\n",
    "assert  out_olivia == \"Hi. I'm Olivia. I am a freshman at UCSD.\"\n",
    "### END HIDDEN TESTS"
   ]
  },
  {
   "cell_type": "code",
   "execution_count": 15,
   "metadata": {
    "nbgrader": {
     "grade": true,
     "grade_id": "q4-test2",
     "locked": true,
     "points": 0.25,
     "schema_version": 3,
     "solution": false,
     "task": false
    }
   },
   "outputs": [],
   "source": [
    "assert isinstance(out_jamal, str)\n",
    "\n",
    "### BEGIN HIDDEN TESTS\n",
    "assert out_jamal  == \"Hi. I'm Jamal. I am a freshman at UCLA.\"\n",
    "### END HIDDEN TESTS"
   ]
  },
  {
   "cell_type": "markdown",
   "metadata": {
    "nbgrader": {
     "grade": false,
     "grade_id": "q4-test3",
     "locked": true,
     "points": 0.25,
     "schema_version": 3,
     "solution": false,
     "task": true
    }
   },
   "source": [
    "**This \"blank\" cell included intentionally.** Do not do anything here. (It's being used in grading.)\n",
    "\n",
    "=== BEGIN MARK SCHEME ===\n",
    "\n",
    "function executed appropriately for variable creation (aka not hard coded)\n",
    "\n",
    "=== END MARK SCHEME ==="
   ]
  },
  {
   "cell_type": "markdown",
   "metadata": {
    "nbgrader": {
     "grade": false,
     "grade_id": "q5",
     "locked": true,
     "schema_version": 3,
     "solution": false
    }
   },
   "source": [
    "### Q5 - `count_consonants` (2 points)\n",
    "\n",
    "Write a function `count_consonants`that will take a string as input and will return a dictionary with any consonant (any letter other than a, e, i, o, or u) in the input as keys and the number of times each consonant appears in the input string as its value.\n",
    "\n",
    "For example, if the input string were 'Shannon', the function would return {'s':1, 'h': 1, 'n':3}.\n",
    "\n",
    "Be sure that your code considers capitalization, turning all keys in your dictionary into the lowercase letter. Spefically: both 'S' and 's' should be coundted in your dictionary as the letter 's' (lowercase).\n",
    "\n",
    "If the input string has no consonants, your function should return an empty dictionary.\n",
    "\n",
    "Note: You can assume the input to this function will be a string and do *not* need to write code to check whether or not this is true."
   ]
  },
  {
   "cell_type": "markdown",
   "metadata": {},
   "source": [
    "#### <span style=\"color:red\">Common Mistake(s):</span>\n",
    "- Answer did not count capital and lower case as same letter"
   ]
  },
  {
   "cell_type": "code",
   "execution_count": 16,
   "metadata": {
    "nbgrader": {
     "grade": false,
     "grade_id": "q5-solution",
     "locked": false,
     "schema_version": 3,
     "solution": true
    }
   },
   "outputs": [],
   "source": [
    "### BEGIN SOLUTION\n",
    "def count_consonants(input_string):\n",
    "    out = {}\n",
    "    vowels = ['a', 'e', 'i', 'o', 'u']\n",
    "    \n",
    "    for char in input_string:\n",
    "        char = char.lower()\n",
    "        \n",
    "        if char not in vowels:\n",
    "            if char not in out:\n",
    "                out[char] = 1\n",
    "            else:\n",
    "                out[char] += 1\n",
    "    return out\n",
    "                \n",
    "### END SOLUTION"
   ]
  },
  {
   "cell_type": "code",
   "execution_count": 17,
   "metadata": {},
   "outputs": [],
   "source": [
    "# BE SURE YOUR ANSWER IS IN THE CELL ABOVE\n",
    "# but you can use this cell to test/execute/check your function (optional)"
   ]
  },
  {
   "cell_type": "code",
   "execution_count": 18,
   "metadata": {
    "nbgrader": {
     "grade": true,
     "grade_id": "q5-test1",
     "locked": true,
     "points": 0.25,
     "schema_version": 3,
     "solution": false,
     "task": false
    }
   },
   "outputs": [],
   "source": [
    "assert count_consonants is not None\n",
    "\n",
    "### BEGIN HIDDEN TESTS\n",
    "assert count_consonants('taylor') == {'t': 1, 'y': 1, 'l': 1, 'r': 1}\n",
    "### END HIDDEN TESTS"
   ]
  },
  {
   "cell_type": "code",
   "execution_count": 19,
   "metadata": {
    "nbgrader": {
     "grade": true,
     "grade_id": "q5-test2",
     "locked": true,
     "points": 0.5,
     "schema_version": 3,
     "solution": false,
     "task": false
    }
   },
   "outputs": [],
   "source": [
    "assert callable(count_consonants)\n",
    "\n",
    "### BEGIN HIDDEN TESTS\n",
    "# check for capitalization\n",
    "assert count_consonants('AaBbCc') == {'b': 2, 'c': 2}\n",
    "### END HIDDEN TESTS\n"
   ]
  },
  {
   "cell_type": "code",
   "execution_count": 20,
   "metadata": {
    "nbgrader": {
     "grade": true,
     "grade_id": "q5-test3",
     "locked": true,
     "points": 0.25,
     "schema_version": 3,
     "solution": false,
     "task": false
    }
   },
   "outputs": [],
   "source": [
    "# hidden test for question above \n",
    "\n",
    "### BEGIN HIDDEN TESTS\n",
    "# check for no consonants\n",
    "assert count_consonants('aeiou') == {}\n",
    "### END HIDDEN TESTS\n"
   ]
  },
  {
   "cell_type": "markdown",
   "metadata": {
    "nbgrader": {
     "grade": false,
     "grade_id": "q5-test4",
     "locked": true,
     "points": 1,
     "schema_version": 3,
     "solution": false,
     "task": true
    }
   },
   "source": [
    "**This \"blank\" cell included intentionally.** Do not do anything here. (It's being used in grading.)\n",
    "\n",
    "=== BEGIN MARK SCHEME ===\n",
    "\n",
    "partial credit for answer above:\n",
    "\n",
    "- function defined correctly & input parameter specified  (**0.25 points**)\n",
    "- for loop (or equivalent) correct (**0.25 points**)\n",
    "- conditional (or equivalent) correct (**0.25 points**)\n",
    "- counter incremented correctly (**0.25 points**) \n",
    "\n",
    "=== END MARK SCHEME ==="
   ]
  },
  {
   "cell_type": "markdown",
   "metadata": {
    "nbgrader": {
     "grade": false,
     "grade_id": "q6",
     "locked": true,
     "schema_version": 3,
     "solution": false
    }
   },
   "source": [
    "### Q6 - `get_activities` (2.5 points)\n",
    "\n",
    "Write a function `get_activities` that takes two input parameters: `input_dictionary` and `activity_key`. `activity_key` should take the default value 'activity'. \n",
    "\n",
    "Then, take a look back to Q3, as we're going to turn that task into a function. Specifically, for this task, you can assume that `input_dictionary` is a dictionary with strings as keys and dictionaries as values (like the dictionary `summer` in Q3). \n",
    "\n",
    "This function should loop through the keys in `input_dictionary`, accessing the values for each key. Considering this inner dictionary (which are the keys of the `input_dictionary`), store the values for the specified function parameter (`activity_key`) in a single list. The list of activities should be returned from the function.\n",
    "\n",
    "For example, if your `input_dictionary` dictionary were:\n",
    "\n",
    "```python\n",
    "{ 'Shannon': {'activity': ['beach volleyball']},\n",
    "  'Josh': {'activity': ['yoga', 'soccer']} } \n",
    "```\n",
    "\n",
    "executing the `get_activities` function with that dictionary as `input_dictionary` would return `['beach volleyball', 'yoga', 'soccer']`\n",
    "\n",
    "If the key you specified did not have any of the specified value for `activity_key`, the function should return an empty list.\n",
    "\n",
    "Note: You can use the `summer` dictionary we defined earlier to test out this function. (Be sure to test out your function with other input values to `activity_key`.)"
   ]
  },
  {
   "cell_type": "markdown",
   "metadata": {},
   "source": [
    "#### <span style=\"color:red\">Common Mistake(s):</span>\n",
    "- default value not correctly specified\n",
    "- output was of incorrect type (should be list of single values)\n",
    "- failed to account for activity_key input that did not have associated value for every member in list"
   ]
  },
  {
   "cell_type": "code",
   "execution_count": 21,
   "metadata": {
    "nbgrader": {
     "grade": false,
     "grade_id": "q6-solution",
     "locked": false,
     "schema_version": 3,
     "solution": true
    }
   },
   "outputs": [],
   "source": [
    "### BEGIN SOLUTION\n",
    "def get_activities(input_dictionary, activity_key='activity'):\n",
    "    \n",
    "    output = []\n",
    "    \n",
    "    for key, val in input_dictionary.items():\n",
    "        try:\n",
    "            out = val[activity_key]\n",
    "            output = output + out\n",
    "        except:\n",
    "            output = output\n",
    "    return output\n",
    "\n",
    "# alternate solution\n",
    "# def get_activities(input_dictionary, activity_key = 'activity'):\n",
    "    \n",
    "#     output = []\n",
    "    \n",
    "#     for item in input_dictionary:\n",
    "        \n",
    "#         if activity_key in input_dictionary[item]:\n",
    "#             student = input_dictionary[item]\n",
    "#             activity += student[activity_key]\n",
    "#         else: \n",
    "#             continue\n",
    "    \n",
    "#     return output\n",
    "\n",
    "### END SOLUTION"
   ]
  },
  {
   "cell_type": "code",
   "execution_count": 22,
   "metadata": {},
   "outputs": [],
   "source": [
    "# BE SURE YOUR ANSWER IS IN THE CELL ABOVE\n",
    "# but you can use this cell to test/execute/check your function (optional)"
   ]
  },
  {
   "cell_type": "code",
   "execution_count": 23,
   "metadata": {
    "nbgrader": {
     "grade": true,
     "grade_id": "q6-test1",
     "locked": true,
     "points": 0.5,
     "schema_version": 3,
     "solution": false
    }
   },
   "outputs": [],
   "source": [
    "assert callable(get_activities)\n",
    "\n",
    "### BEGIN HIDDEN TESTS\n",
    "# use default parameter\n",
    "assert set(get_activities(summer)) == activity_set\n",
    "### END HIDDEN TESTS"
   ]
  },
  {
   "cell_type": "code",
   "execution_count": 24,
   "metadata": {
    "nbgrader": {
     "grade": true,
     "grade_id": "q6-test2",
     "locked": true,
     "points": 0.5,
     "schema_version": 3,
     "solution": false,
     "task": false
    }
   },
   "outputs": [],
   "source": [
    "# hidden tests for function above\n",
    "### BEGIN HIDDEN TESTS\n",
    "# assure defaul parameter is correct\n",
    "assert get_activities(input_dictionary = summer, activity_key = 'job') == ['internship', 'Amazon', 'internship']\n",
    "### END HIDDEN TESTS"
   ]
  },
  {
   "cell_type": "code",
   "execution_count": 25,
   "metadata": {
    "nbgrader": {
     "grade": true,
     "grade_id": "q6-test3",
     "locked": true,
     "points": 0.25,
     "schema_version": 3,
     "solution": false
    }
   },
   "outputs": [],
   "source": [
    "# hidden tests for function above\n",
    "### BEGIN HIDDEN TESTS\n",
    "# assure if key not in inner dictionary, returns an empty list\n",
    "assert get_activities(summer, 'ouch') == []\n",
    "### END HIDDEN TESTS"
   ]
  },
  {
   "cell_type": "markdown",
   "metadata": {
    "nbgrader": {
     "grade": false,
     "grade_id": "q6-test4",
     "locked": true,
     "points": 1.25,
     "schema_version": 3,
     "solution": false,
     "task": true
    }
   },
   "source": [
    "**This \"blank\" cell included intentionally.** Do not do anything here. (It's being used in grading.)\n",
    "\n",
    "\n",
    "=== BEGIN MARK SCHEME ===\n",
    "\n",
    "partial credit for answer above:\n",
    "\n",
    "- function defined correctly (**0.25 points**)\n",
    "- 2 parameters & default parameter specified correctly (**0.25 points**)\n",
    "- list extension correct (**0.5 points**)\n",
    "- `return` statement included (**0.25 points**)\n",
    "\n",
    "=== END MARK SCHEME ==="
   ]
  },
  {
   "cell_type": "markdown",
   "metadata": {
    "nbgrader": {
     "grade": false,
     "grade_id": "cell-4ab8407deca62752",
     "locked": true,
     "schema_version": 3,
     "solution": false,
     "task": false
    }
   },
   "source": [
    "## Part 3: Objects & Classes (5 points)"
   ]
  },
  {
   "cell_type": "markdown",
   "metadata": {
    "nbgrader": {
     "grade": false,
     "grade_id": "q7",
     "locked": true,
     "schema_version": 3,
     "solution": false
    }
   },
   "source": [
    "### Q7 - objects (0.5 points)\n",
    "\n",
    "In the cell below, import the `math` module so that you can use the `sqrt` function from the module. (Note: the `sqrt` function from the `math` module calculates the square root of the input value.)\n",
    "\n",
    "Use the `sqrt` function from the `math` module such that it returns 6 (or 6.0).\n",
    "\n",
    "Store the output from this operation in the variable `square_root`."
   ]
  },
  {
   "cell_type": "code",
   "execution_count": 26,
   "metadata": {
    "nbgrader": {
     "grade": false,
     "grade_id": "q7-solution",
     "locked": false,
     "schema_version": 3,
     "solution": true
    }
   },
   "outputs": [],
   "source": [
    "### BEGIN SOLUTION\n",
    "from math import sqrt\n",
    "square_root = sqrt(36)\n",
    "\n",
    "# also valid:\n",
    "# import math\n",
    "# square_root = math.sqrt(36)\n",
    "### END SOLUTION"
   ]
  },
  {
   "cell_type": "code",
   "execution_count": 27,
   "metadata": {
    "nbgrader": {
     "grade": true,
     "grade_id": "q7-test1",
     "locked": true,
     "points": 0.25,
     "schema_version": 3,
     "solution": false
    }
   },
   "outputs": [],
   "source": [
    "assert square_root is not None\n",
    "\n",
    "### BEGIN HIDDEN TESTS\n",
    "assert square_root == 6\n",
    "### END HIDDEN TESTS"
   ]
  },
  {
   "cell_type": "markdown",
   "metadata": {
    "nbgrader": {
     "grade": false,
     "grade_id": "q7-test2",
     "locked": true,
     "points": 0.25,
     "schema_version": 3,
     "solution": false,
     "task": true
    }
   },
   "source": [
    "**This \"blank\" cell included intentionally.** Do not do anything here. (It's being used in grading.)\n",
    "\n",
    "=== BEGIN MARK SCHEME ===\n",
    "\n",
    "**0.5 points** awarded if _either_ of the following are true:\n",
    "- import statement correct \n",
    "- function syntax correct\n",
    "\n",
    "=== END MARK SCHEME ==="
   ]
  },
  {
   "cell_type": "markdown",
   "metadata": {
    "nbgrader": {
     "grade": false,
     "grade_id": "q8",
     "locked": true,
     "schema_version": 3,
     "solution": false
    }
   },
   "source": [
    "### Q8 - `CarInventory` (2.5 points)\n",
    "\n",
    "For this question, imagine you own a used car dealership and you need some way to track what cars you have in stock.\n",
    "\n",
    "To do this, you will need to: create a class called `CarInventory`.\n",
    "\n",
    "`CarInventory` should have two instance attraibutes `n_cars` and `cars` and a single method `add_car()`. \n",
    "\n",
    "**instance attributes**:\n",
    "- `n_cars` should be initialized with the value `0`  \n",
    "- `cars` should be initialized with an empty list.\n",
    "\n",
    "**method**:\n",
    "\n",
    "- `add_car` should have 4 input parameters: `make`, `model`, `year` and `mpg`. \n",
    "- `add_car` should create a dictionary from the values passed to each of its 4 input parameters. \n",
    "- This dictionary should be appended to the `cars` list in your `CarInventory`. \n",
    "- And then, the `n_cars` should increase by 1."
   ]
  },
  {
   "cell_type": "markdown",
   "metadata": {},
   "source": [
    "#### <span style=\"color:red\">Common Mistake(s):</span>\n",
    "- Instance attributes not initialized correctly\n",
    "- `self` missing from method/not used appropriately\n",
    "    - in method's parameter definition\n",
    "    - and/or within code of method "
   ]
  },
  {
   "cell_type": "code",
   "execution_count": 28,
   "metadata": {
    "nbgrader": {
     "grade": false,
     "grade_id": "q8-solution",
     "locked": false,
     "schema_version": 3,
     "solution": true
    }
   },
   "outputs": [],
   "source": [
    "### BEGIN SOLUTION\n",
    "class CarInventory:\n",
    "    \n",
    "    def __init__(self):\n",
    "        self.n_cars = 0\n",
    "        self.cars = []\n",
    "    \n",
    "    def add_car(self, make, model, year, mpg):\n",
    "        \n",
    "        self.cars.append({'make': make, \n",
    "                          'model':model,\n",
    "                          'year': year, \n",
    "                          'mpg': mpg})\n",
    "        self.n_cars += 1\n",
    "### END SOLUTION\n"
   ]
  },
  {
   "cell_type": "code",
   "execution_count": 29,
   "metadata": {
    "nbgrader": {
     "grade": true,
     "grade_id": "q8-test1",
     "locked": true,
     "points": 0.5,
     "schema_version": 3,
     "solution": false
    }
   },
   "outputs": [],
   "source": [
    "# Tests for the object\n",
    "assert CarInventory\n",
    "\n",
    "### BEGIN HIDDEN TESTS\n",
    "test_car_inv = CarInventory()\n",
    "assert isinstance(test_car_inv, CarInventory)\n",
    "assert test_car_inv.n_cars == 0\n",
    "assert isinstance(test_car_inv.cars, list)\n",
    "### END HIDDEN TESTS"
   ]
  },
  {
   "cell_type": "code",
   "execution_count": 30,
   "metadata": {
    "nbgrader": {
     "grade": true,
     "grade_id": "q8-test2",
     "locked": true,
     "points": 0.5,
     "schema_version": 3,
     "solution": false
    }
   },
   "outputs": [],
   "source": [
    "# Tests for add_car method\n",
    "assert callable(CarInventory.add_car)\n",
    "\n",
    "### BEGIN HIDDEN TESTS\n",
    "test_inv = CarInventory()\n",
    "test_inv.add_car('Toyota', 'Prius', 2012, 36)\n",
    "assert test_inv.n_cars == 1\n",
    "assert test_inv.cars[0] == {'make': 'Toyota', 'model': 'Prius', 'year': 2012, 'mpg' : 36}\n",
    "### END HIDDEN TESTS"
   ]
  },
  {
   "cell_type": "markdown",
   "metadata": {
    "nbgrader": {
     "grade": false,
     "grade_id": "q8-test3",
     "locked": true,
     "points": 1.5,
     "schema_version": 3,
     "solution": false,
     "task": true
    }
   },
   "source": [
    "**This \"blank\" cell included intentionally.** Do not do anything here. (It's being used in grading.)\n",
    "\n",
    "=== BEGIN MARK SCHEME ===\n",
    "\n",
    "partial credit for answer above:\n",
    "\n",
    "- class & instance attributes defined correctly (**0.25 points**)\n",
    "- `self` used correctly throughout (**0.25 points**)\n",
    "- method defined correctly w/ parameters (**0.25 points**)\n",
    "- method dictionary correct & appended correctly (**0.5 points**)\n",
    "- method increases self.n_cars correctly (**0.25 points**)\n",
    "\n",
    "\n",
    "=== END MARK SCHEME ==="
   ]
  },
  {
   "cell_type": "markdown",
   "metadata": {
    "nbgrader": {
     "grade": false,
     "grade_id": "q9",
     "locked": true,
     "schema_version": 3,
     "solution": false
    }
   },
   "source": [
    "### Q9 - `FootballGame` (2 points)\n",
    "\n",
    "Generate a class called `FootballGame`.\n",
    "\n",
    "This class should have four *instance attributes*: `touchdowns`, `sacks`, `interceptions`, and `points` (specified in that order). \n",
    "\n",
    "This class must also have a single method: `play_game`. Within the `play_game` method, add code that would `return` `game_metric` such that `game_metric` is calculated as follows:\n",
    "- for every one `touchdowns` *and* every one `sacks`, `game_metric` is increased by 1\n",
    "- for every one `interceptions`, `game_metric` is decreased by 1\n",
    "- for every 10 `points` scored, `game_metric` is increased by 1 (Note that if 20-29 points are scored, for example, `game_metric` would increase by 2. If 30-39 points are scored, `game_metric` would increase by 3."
   ]
  },
  {
   "cell_type": "markdown",
   "metadata": {},
   "source": [
    "#### <span style=\"color:red\">Common Mistake(s):</span>\n",
    "- method failed to pass `self`\n",
    "- calculation not carried out correctly"
   ]
  },
  {
   "cell_type": "code",
   "execution_count": 31,
   "metadata": {
    "nbgrader": {
     "grade": false,
     "grade_id": "q9-solution",
     "locked": false,
     "schema_version": 3,
     "solution": true
    }
   },
   "outputs": [],
   "source": [
    "### BEGIN SOLUTION\n",
    "class FootballGame():\n",
    "    \n",
    "    def __init__(self, touchdowns, sacks, interceptions, points):\n",
    "        self.touchdowns = touchdowns\n",
    "        self.sacks = sacks\n",
    "        self.interceptions = interceptions\n",
    "        self.points = points\n",
    "        \n",
    "    def play_game(self):\n",
    "        game_metric = 0\n",
    "        game_metric = self.touchdowns + self.sacks - self.interceptions + self.points//10\n",
    "        return game_metric\n",
    "    \n",
    "### END SOLUTION"
   ]
  },
  {
   "cell_type": "code",
   "execution_count": 32,
   "metadata": {},
   "outputs": [],
   "source": [
    "# BE SURE YOUR ANSWER IS IN THE CELL ABOVE\n",
    "# but you can use this cell to test/execute/check your class (optional)"
   ]
  },
  {
   "cell_type": "code",
   "execution_count": 33,
   "metadata": {
    "nbgrader": {
     "grade": true,
     "grade_id": "q9-test1",
     "locked": true,
     "points": 0.5,
     "schema_version": 3,
     "solution": false
    }
   },
   "outputs": [],
   "source": [
    "assert callable(FootballGame)\n",
    "\n",
    "### BEGIN HIDDEN TESTS\n",
    "game = FootballGame(1, 1, 2, 22)\n",
    "\n",
    "# test attributes\n",
    "assert game.touchdowns == 1\n",
    "assert game.sacks == 1\n",
    "assert game.interceptions == 2\n",
    "assert game.points == 22\n",
    "### END HIDDEN TESTS"
   ]
  },
  {
   "cell_type": "code",
   "execution_count": 34,
   "metadata": {
    "nbgrader": {
     "grade": true,
     "grade_id": "q9-test2",
     "locked": true,
     "points": 0.5,
     "schema_version": 3,
     "solution": false,
     "task": false
    }
   },
   "outputs": [],
   "source": [
    "assert callable(game.play_game)\n",
    "\n",
    "### BEGIN HIDDEN TESTS\n",
    "# test method\n",
    "assert game.play_game() == 2\n",
    "### END HIDDEN TESTS"
   ]
  },
  {
   "cell_type": "markdown",
   "metadata": {
    "nbgrader": {
     "grade": false,
     "grade_id": "q9-test3",
     "locked": true,
     "points": 1,
     "schema_version": 3,
     "solution": false,
     "task": true
    }
   },
   "source": [
    "**This \"blank\" cell included intentionally.** Do not do anything here. (It's being used in grading.)\n",
    "\n",
    "=== BEGIN MARK SCHEME ===\n",
    "\n",
    "partial credit for answer above:\n",
    "\n",
    "- class & instance attributes defined correctly (**0.25 points**)\n",
    "- `self` used correctly in instance attribute (**0.25 points**)\n",
    "- method defined correctly (**0.25 points**)\n",
    "- calculation correct (**0.25 points**) \n",
    "\n",
    "=== END MARK SCHEME ==="
   ]
  },
  {
   "cell_type": "markdown",
   "metadata": {
    "nbgrader": {
     "grade": false,
     "grade_id": "end",
     "locked": true,
     "schema_version": 3,
     "solution": false
    }
   },
   "source": [
    "### Exam II complete!\n",
    "\n",
    "Good work - you're done with the second exam!\n",
    "\n",
    "Check your work, and then when you're ready, **submit on datahub**.\n",
    "\n",
    "We will not have your exam until you click submit and see this show up under 'submitted assignments'."
   ]
  }
 ],
 "metadata": {
  "celltoolbar": "Create Assignment",
  "kernelspec": {
   "display_name": "Python 3",
   "language": "python",
   "name": "python3"
  },
  "language_info": {
   "codemirror_mode": {
    "name": "ipython",
    "version": 3
   },
   "file_extension": ".py",
   "mimetype": "text/x-python",
   "name": "python",
   "nbconvert_exporter": "python",
   "pygments_lexer": "ipython3",
   "version": "3.7.0"
  }
 },
 "nbformat": 4,
 "nbformat_minor": 2
}
