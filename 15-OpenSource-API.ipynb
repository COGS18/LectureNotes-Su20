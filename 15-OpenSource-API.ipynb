{
 "cells": [
  {
   "cell_type": "markdown",
   "metadata": {
    "slideshow": {
     "slide_type": "slide"
    }
   },
   "source": [
    "## Course Announcements \n",
    "\n",
    "**Due Dates**\n",
    "- **CL5** due tonight (5/13)\n",
    "- **A5** due *Friday* (not Thursday) (11:59 PM) \n",
    "- **Final Exam** Friday (due Sat 11 AM)\n",
    " \n",
    "**Notes**\n",
    "- Fill out your CAPEs, please!\n",
    "    - \\>=85% response rate == +0.5% to everyone's grade\n",
    "- There will also be a post-course survey (optional; EC +0.25%)"
   ]
  },
  {
   "cell_type": "markdown",
   "metadata": {
    "collapsed": true,
    "slideshow": {
     "slide_type": "slide"
    }
   },
   "source": [
    "#### Clicker Question #0\n",
    "\n",
    "What would you prefer we cover in lecture tomorrow?\n",
    "\n",
    "- A) Advanced Python\n",
    "- B) Final Exam Review\n",
    "- C) No Preference"
   ]
  },
  {
   "cell_type": "markdown",
   "metadata": {
    "slideshow": {
     "slide_type": "slide"
    }
   },
   "source": [
    "# Open Source, Scientific Computing & APIs"
   ]
  },
  {
   "cell_type": "markdown",
   "metadata": {
    "slideshow": {
     "slide_type": "slide"
    }
   },
   "source": [
    "## Open Source\n",
    "\n",
    "- Open Source Software, versioning & History of Python\n",
    "- Tools: Jupyter, GitHub, PyPI, PIP, Conda\n",
    "\n",
    "## Scientific Computing\n",
    "\n",
    "- `scipy`, `numpy`, `pandas`\n",
    "\n",
    "### APIs\n",
    "\n",
    "- `lisc`, `tweepy`"
   ]
  },
  {
   "cell_type": "markdown",
   "metadata": {
    "slideshow": {
     "slide_type": "fragment"
    }
   },
   "source": [
    "## Open Source \n",
    "\n",
    "<div class=\"alert alert-success\">\n",
    "Open source software is software for which the source code is openly available.\n",
    "</div>"
   ]
  },
  {
   "cell_type": "markdown",
   "metadata": {
    "slideshow": {
     "slide_type": "fragment"
    }
   },
   "source": [
    "The Source Code for Python (which is actually written in C) is all available."
   ]
  },
  {
   "cell_type": "markdown",
   "metadata": {
    "slideshow": {
     "slide_type": "fragment"
    }
   },
   "source": [
    "Open Source Software is free. (free == freedom)"
   ]
  },
  {
   "cell_type": "markdown",
   "metadata": {
    "collapsed": true,
    "slideshow": {
     "slide_type": "fragment"
    }
   },
   "source": [
    "Open source software is software that the user can:\n",
    "\n",
    "- use and install the software\n",
    "- view the source code of the project\n",
    "- distribute the software\n",
    "- change the source code of the project"
   ]
  },
  {
   "cell_type": "markdown",
   "metadata": {
    "slideshow": {
     "slide_type": "fragment"
    }
   },
   "source": [
    "Scientific research is often done in an exclusively open source environment."
   ]
  },
  {
   "cell_type": "markdown",
   "metadata": {
    "slideshow": {
     "slide_type": "slide"
    }
   },
   "source": [
    "## Aside: Brief History of Python"
   ]
  },
  {
   "cell_type": "markdown",
   "metadata": {
    "slideshow": {
     "slide_type": "-"
    }
   },
   "source": [
    "First conceptualized by **Guido van Rossum** in the late 1980s: \n",
    "- ABC is a general-pupose programming language that influenced Python\n",
    "- goal: simple scripting language\n",
    "    - basic syntax\n",
    "    - indentation rather than cruly braces or begin-end blocks\n",
    "    - developed certain data types (dictionary, list, strings, numbers)\n",
    "- he was the BDFL (benevolent dictator for life) until July 2018"
   ]
  },
  {
   "cell_type": "markdown",
   "metadata": {
    "slideshow": {
     "slide_type": "fragment"
    }
   },
   "source": [
    "### Basic Timeline\n",
    "- 1991: Python 0.9.0 was first released \n",
    "- 1994: Python 1.0 (lambda, map, filter, and reduce)\n",
    "- 2000: Python 2.0 (list comprehensions, full garbage collector, supported unicode)\n",
    "- 2008: Python 3.0 released (print function; not backwards-compatible, fulfilling the 13th law of the Zen of Python)"
   ]
  },
  {
   "cell_type": "markdown",
   "metadata": {
    "slideshow": {
     "slide_type": "slide"
    }
   },
   "source": [
    "### For Context:\n",
    "\n",
    "- 1842: Ada Lovelace - first published computer program\n",
    "- 1940s: first high level programming language\n",
    "- 1956: FORTRAN - first commercially available\n",
    "- 1972: C\n",
    "- 1980s: Consolidation, modules, & performance\n",
    "    - 1987: Perl\n",
    "- 1990s: Age of the Internet\n",
    "    - 1991: **Python**\n",
    "    - 1993: R\n",
    "    - 1995: Java"
   ]
  },
  {
   "cell_type": "markdown",
   "metadata": {
    "slideshow": {
     "slide_type": "fragment"
    }
   },
   "source": [
    "**Fun fact**: Python is named after the British TV show Monty Python (not the snake).\n",
    "\n"
   ]
  },
  {
   "cell_type": "markdown",
   "metadata": {
    "collapsed": true,
    "slideshow": {
     "slide_type": "slide"
    }
   },
   "source": [
    "## Open Source Developers"
   ]
  },
  {
   "cell_type": "markdown",
   "metadata": {
    "slideshow": {
     "slide_type": "fragment"
    }
   },
   "source": [
    "<div class=\"alert alert-success\">\n",
    "Open source software is often developed in an collaborative, public manner, through open collaboration.\n",
    "</div>"
   ]
  },
  {
   "cell_type": "markdown",
   "metadata": {
    "slideshow": {
     "slide_type": "fragment"
    }
   },
   "source": [
    "Many are community-driven:\n",
    "- open, public, & collaborative\n",
    "- `pandas` was intially written by Wes McKinney"
   ]
  },
  {
   "cell_type": "markdown",
   "metadata": {
    "slideshow": {
     "slide_type": "fragment"
    }
   },
   "source": [
    "How open source packages are maintained and updated:\n",
    "- support from foundations\n",
    "- grant funding\n",
    "- out of the kindness of individual's or the community's heart(s)"
   ]
  },
  {
   "cell_type": "markdown",
   "metadata": {
    "slideshow": {
     "slide_type": "slide"
    }
   },
   "source": [
    "## Software Management & Distribution\n",
    "\n",
    "- Jupyter\n",
    "- GitHub\n",
    "- PyPI\n",
    "- PIP\n",
    "- Conda"
   ]
  },
  {
   "cell_type": "markdown",
   "metadata": {
    "slideshow": {
     "slide_type": "slide"
    }
   },
   "source": [
    "### Aside: Project Jupyter"
   ]
  },
  {
   "cell_type": "markdown",
   "metadata": {
    "slideshow": {
     "slide_type": "fragment"
    }
   },
   "source": [
    "- Spun off from IPython in 2014 (Fernando Perez)\n",
    "- originally called \"IPython Notebooks\" (this is where .ipynb comes from)\n",
    "- intended for use by those who program in Julia, Python, and R \n",
    "- developed to support those who use interactive computing"
   ]
  },
  {
   "cell_type": "markdown",
   "metadata": {
    "slideshow": {
     "slide_type": "fragment"
    }
   },
   "source": [
    "This document (.ipynb) IS a JSON document\n",
    "- {'key' : 'value'}\n",
    "- nested & hierarchical\n",
    "- operating unit is the cell (Markdown, code, LaTeX, ...)"
   ]
  },
  {
   "cell_type": "markdown",
   "metadata": {
    "slideshow": {
     "slide_type": "fragment"
    }
   },
   "source": [
    "### IPython\n",
    "\n",
    "- Interactive Python\n",
    "- Initial release: 2001\n",
    "- Command Shell for interactive computing in the shell"
   ]
  },
  {
   "cell_type": "markdown",
   "metadata": {
    "slideshow": {
     "slide_type": "fragment"
    }
   },
   "source": [
    "- 1991: Python 0.9.0 was first released \n",
    "- 1994: Python 1.0 (lambda, map, filter, and reduce)\n",
    "- 2000: Python 2.0 (list comprehensions, full garbage collector, supported unicode)\n",
    "- 2001: IPython released\n",
    "- 2008: Python 3.0 released (print function; not backwards-compatible, fulfilling the 13th law of the Zen of Python)\n",
    "- 2014: Jupyter notebooks spun off"
   ]
  },
  {
   "cell_type": "markdown",
   "metadata": {
    "slideshow": {
     "slide_type": "slide"
    }
   },
   "source": [
    "### GitHub"
   ]
  },
  {
   "cell_type": "markdown",
   "metadata": {
    "slideshow": {
     "slide_type": "fragment"
    }
   },
   "source": [
    "<div class=\"alert alert-success\">\n",
    "<b>GitHub</b> is a software development platform, which is used to host and develop open source projects.\n",
    "</div>"
   ]
  },
  {
   "cell_type": "markdown",
   "metadata": {
    "slideshow": {
     "slide_type": "fragment"
    }
   },
   "source": [
    "Similar to Dropbox or Google Drive...but for code."
   ]
  },
  {
   "cell_type": "markdown",
   "metadata": {
    "slideshow": {
     "slide_type": "fragment"
    }
   },
   "source": [
    "#### Benefits of GitHub\n",
    "\n",
    "- Share code\n",
    "- Work collaboratively\n",
    "- See others' code \n",
    "- Contribute to others' code"
   ]
  },
  {
   "cell_type": "markdown",
   "metadata": {
    "slideshow": {
     "slide_type": "fragment"
    }
   },
   "source": [
    "But...what if you just want to _use_ what's available to you in Python..."
   ]
  },
  {
   "cell_type": "markdown",
   "metadata": {
    "slideshow": {
     "slide_type": "slide"
    }
   },
   "source": [
    "### PyPI: Python Package Index"
   ]
  },
  {
   "cell_type": "markdown",
   "metadata": {
    "slideshow": {
     "slide_type": "fragment"
    }
   },
   "source": [
    "<div class=\"alert alert-success\">\n",
    "The Python Package Index is a software repository for the Python programming language.\n",
    "</div>"
   ]
  },
  {
   "cell_type": "markdown",
   "metadata": {
    "slideshow": {
     "slide_type": "fragment"
    }
   },
   "source": [
    "[PyPI](https://pypi.org/): Where packages are hosted. You can search and use packages from Python."
   ]
  },
  {
   "cell_type": "markdown",
   "metadata": {
    "slideshow": {
     "slide_type": "slide"
    }
   },
   "source": [
    "### PIP: Python Installer"
   ]
  },
  {
   "cell_type": "markdown",
   "metadata": {
    "slideshow": {
     "slide_type": "fragment"
    }
   },
   "source": [
    "<div class=\"alert alert-success\">\n",
    "PIP is a Python tool for installing Python packages. \n",
    "</div>"
   ]
  },
  {
   "cell_type": "markdown",
   "metadata": {
    "slideshow": {
     "slide_type": "fragment"
    }
   },
   "source": [
    "It searches PyPi for you and allows you to install new python packages from the terminal.\n",
    "\n",
    "The format for this is:\n",
    "\n",
    "`pip install package_name`\n",
    "\n",
    "On Datahub, you have to use the `--user` flag\n",
    "\n",
    "`pip install --user package_name`\n"
   ]
  },
  {
   "cell_type": "code",
   "execution_count": null,
   "metadata": {
    "slideshow": {
     "slide_type": "fragment"
    }
   },
   "outputs": [],
   "source": [
    "# for example \n",
    "!pip install --user nltk"
   ]
  },
  {
   "cell_type": "markdown",
   "metadata": {
    "slideshow": {
     "slide_type": "slide"
    }
   },
   "source": [
    "## Licenses"
   ]
  },
  {
   "cell_type": "markdown",
   "metadata": {
    "collapsed": true,
    "slideshow": {
     "slide_type": "fragment"
    }
   },
   "source": [
    "<div class=\"alert alert-success\">\n",
    "The details of how an open-source project can be used are detailed in its <b>license</b>, which explicitly states its terms of use. \n",
    "</div>"
   ]
  },
  {
   "cell_type": "markdown",
   "metadata": {
    "slideshow": {
     "slide_type": "fragment"
    }
   },
   "source": [
    "- Open Source projects still have a license:\n",
    "    - sometimes it says: go do whatever you want with this\n",
    "    - other times it says: if you're not a company/going to make money, you can use this\n",
    "    - and other times it says: you can use it but you have to attribute the original developers"
   ]
  },
  {
   "cell_type": "markdown",
   "metadata": {
    "slideshow": {
     "slide_type": "slide"
    }
   },
   "source": [
    "## Versioning\n",
    "\n",
    "When you make changes to the software you've released into the world, you have to change the version of that software to let people know changes have occurred."
   ]
  },
  {
   "cell_type": "markdown",
   "metadata": {
    "slideshow": {
     "slide_type": "slide"
    }
   },
   "source": [
    "### Versioning Schemes\n",
    "\n",
    "The rules, if you're new to this can be [dizzying](https://www.python.org/dev/peps/pep-0440/#version-scheme), so we'll [simplify](https://www.python.org/dev/peps/pep-0396/) for now:\n",
    "\n",
    "- `<MAJOR>.<MINOR>`\n",
    "    - i.e. 1.3\n",
    "    \n",
    "- `<MAJOR>.<MINOR>.<MAINTENANCE>`\n",
    "    - i.e. 1.3.1"
   ]
  },
  {
   "cell_type": "markdown",
   "metadata": {
    "slideshow": {
     "slide_type": "fragment"
    }
   },
   "source": [
    "- `<MAJOR>` - increase by 1 w/ incompatible API changes\n",
    "- `<MINOR>` - increase by 1 w/ added functionality in a backwards-compatible manner\n",
    "- `<MAINTENANCE>` - (aka patch) inrease by 1 w/  backwards-compatible bug fixes."
   ]
  },
  {
   "cell_type": "markdown",
   "metadata": {
    "slideshow": {
     "slide_type": "fragment"
    }
   },
   "source": [
    "In Python (package) development... when `<MAJOR>` == 0, suggests a package in development"
   ]
  },
  {
   "cell_type": "code",
   "execution_count": 2,
   "metadata": {},
   "outputs": [
    {
     "name": "stdout",
     "output_type": "stream",
     "text": [
      "Python 3.7.0\r\n"
     ]
    }
   ],
   "source": [
    "# Python version\n",
    "!python --version"
   ]
  },
  {
   "cell_type": "code",
   "execution_count": 3,
   "metadata": {
    "scrolled": false,
    "slideshow": {
     "slide_type": "slide"
    }
   },
   "outputs": [
    {
     "name": "stdout",
     "output_type": "stream",
     "text": [
      "Name: nltk\r\n",
      "Version: 3.3\r\n",
      "Summary: Natural Language Toolkit\r\n",
      "Home-page: http://nltk.org/\r\n",
      "Author: Steven Bird\r\n",
      "Author-email: stevenbird1@gmail.com\r\n",
      "License: Apache License, Version 2.0\r\n",
      "Location: /anaconda3/lib/python3.7/site-packages\r\n",
      "Requires: six\r\n",
      "Required-by: lisc\r\n"
     ]
    }
   ],
   "source": [
    "# see version information\n",
    "!pip show nltk"
   ]
  },
  {
   "cell_type": "code",
   "execution_count": 4,
   "metadata": {
    "scrolled": true,
    "slideshow": {
     "slide_type": "fragment"
    }
   },
   "outputs": [
    {
     "data": {
      "text/plain": [
       "'3.3'"
      ]
     },
     "execution_count": 4,
     "metadata": {},
     "output_type": "execute_result"
    }
   ],
   "source": [
    "# see version information\n",
    "import nltk\n",
    "nltk.__version__"
   ]
  },
  {
   "cell_type": "markdown",
   "metadata": {
    "slideshow": {
     "slide_type": "slide"
    }
   },
   "source": [
    "### Dependencies"
   ]
  },
  {
   "cell_type": "markdown",
   "metadata": {
    "slideshow": {
     "slide_type": "fragment"
    }
   },
   "source": [
    "<div class=\"alert alert-success\">\n",
    "Packages can have dependencies on each other, meaning they require (use) other packages to work.\n",
    "</div>"
   ]
  },
  {
   "cell_type": "markdown",
   "metadata": {
    "slideshow": {
     "slide_type": "slide"
    }
   },
   "source": [
    "### A Note on Conda"
   ]
  },
  {
   "cell_type": "markdown",
   "metadata": {
    "slideshow": {
     "slide_type": "fragment"
    }
   },
   "source": [
    "<div class=\"alert alert-success\">\n",
    "Conda is a package management and environment management system. \n",
    "</div>"
   ]
  },
  {
   "cell_type": "markdown",
   "metadata": {
    "slideshow": {
     "slide_type": "fragment"
    }
   },
   "source": [
    "`pip` manages single installs. `Conda` manages the whole system / environment and interactions between packages."
   ]
  },
  {
   "cell_type": "markdown",
   "metadata": {
    "slideshow": {
     "slide_type": "slide"
    }
   },
   "source": [
    "## Scientific Computing"
   ]
  },
  {
   "cell_type": "markdown",
   "metadata": {
    "slideshow": {
     "slide_type": "-"
    }
   },
   "source": [
    "<div class=\"alert alert-success\">\n",
    "<b>Scientific Computing</b> is the application of computer programming to scientific applications: data analysis, simulation & modelling, plotting, etc. \n",
    "</div>"
   ]
  },
  {
   "cell_type": "markdown",
   "metadata": {
    "slideshow": {
     "slide_type": "slide"
    }
   },
   "source": [
    "## Scientific Python: Scipy Stack\n",
    "\n",
    "Scipy = Scientific Python\n",
    "\n",
    "- `scipy`\n",
    "- `numpy`\n",
    "- `pandas`\n",
    "- Data Analysis in Python"
   ]
  },
  {
   "cell_type": "markdown",
   "metadata": {
    "slideshow": {
     "slide_type": "-"
    }
   },
   "source": [
    "<div class=\"alert alert-success\">\n",
    "<b><code>Scipy</code></b> is an <i>ecosystem</i>, including a collection of open-source packages for scientific computing in Python.\n",
    "</div>"
   ]
  },
  {
   "cell_type": "markdown",
   "metadata": {
    "slideshow": {
     "slide_type": "fragment"
    }
   },
   "source": [
    "A 'family' of packages that all work well together to do scientific computing.\n",
    "\n",
    "Not made by the same people who manage the standard library."
   ]
  },
  {
   "cell_type": "markdown",
   "metadata": {
    "collapsed": true,
    "slideshow": {
     "slide_type": "slide"
    }
   },
   "source": [
    "## Homogenous Data\n",
    "\n",
    "- for example: store data of the same type (i.e. all numerics)\n",
    "- recordings of values from experimental participants\n",
    "- heights or quantitative information from survey data"
   ]
  },
  {
   "cell_type": "markdown",
   "metadata": {},
   "source": [
    "Lists are a start, and lists of lists are possible.\n",
    "\n",
    "But, they can get nightmareish.\n",
    "\n",
    "So we use arrays."
   ]
  },
  {
   "cell_type": "markdown",
   "metadata": {
    "slideshow": {
     "slide_type": "slide"
    }
   },
   "source": [
    "### `numpy`\n",
    "\n",
    "**`numpy`** - stands for numerical python"
   ]
  },
  {
   "cell_type": "markdown",
   "metadata": {
    "slideshow": {
     "slide_type": "fragment"
    }
   },
   "source": [
    "**arrays** - work with arrays (matrices)\n",
    "\n",
    "Allow you to efficiently operate on arrays (linear algebra, matrix operations, etc.)"
   ]
  },
  {
   "cell_type": "code",
   "execution_count": 5,
   "metadata": {
    "slideshow": {
     "slide_type": "fragment"
    }
   },
   "outputs": [],
   "source": [
    "import numpy as np"
   ]
  },
  {
   "cell_type": "code",
   "execution_count": 6,
   "metadata": {
    "slideshow": {
     "slide_type": "fragment"
    }
   },
   "outputs": [],
   "source": [
    "# Create some arrays of data\n",
    "arr0 = np.array([1, 2, 3])\n",
    "arr1 = np.array([[1, 2], [3, 4]])\n",
    "arr2 = np.array([[5, 6], [7, 8]])"
   ]
  },
  {
   "cell_type": "code",
   "execution_count": 10,
   "metadata": {
    "slideshow": {
     "slide_type": "fragment"
    }
   },
   "outputs": [
    {
     "data": {
      "text/plain": [
       "array([[5, 6],\n",
       "       [7, 8]])"
      ]
     },
     "execution_count": 10,
     "metadata": {},
     "output_type": "execute_result"
    }
   ],
   "source": [
    "arr2"
   ]
  },
  {
   "cell_type": "code",
   "execution_count": 11,
   "metadata": {
    "slideshow": {
     "slide_type": "slide"
    }
   },
   "outputs": [
    {
     "data": {
      "text/plain": [
       "[[1, 2], [3, 4]]"
      ]
     },
     "execution_count": 11,
     "metadata": {},
     "output_type": "execute_result"
    }
   ],
   "source": [
    "# lists of lists don't store dimensionality well\n",
    "[[1, 2], [3, 4]]"
   ]
  },
  {
   "cell_type": "markdown",
   "metadata": {
    "slideshow": {
     "slide_type": "slide"
    }
   },
   "source": [
    "#### Indexing Arrays"
   ]
  },
  {
   "cell_type": "code",
   "execution_count": 12,
   "metadata": {
    "slideshow": {
     "slide_type": "fragment"
    }
   },
   "outputs": [
    {
     "data": {
      "text/plain": [
       "array([[1, 2],\n",
       "       [3, 4]])"
      ]
     },
     "execution_count": 12,
     "metadata": {},
     "output_type": "execute_result"
    }
   ],
   "source": [
    "# Check out an array of data\n",
    "arr1"
   ]
  },
  {
   "cell_type": "code",
   "execution_count": 13,
   "metadata": {
    "slideshow": {
     "slide_type": "fragment"
    }
   },
   "outputs": [
    {
     "data": {
      "text/plain": [
       "(2, 2)"
      ]
     },
     "execution_count": 13,
     "metadata": {},
     "output_type": "execute_result"
    }
   ],
   "source": [
    "# Check the shape of the array\n",
    "arr1.shape"
   ]
  },
  {
   "cell_type": "code",
   "execution_count": 15,
   "metadata": {
    "slideshow": {
     "slide_type": "fragment"
    }
   },
   "outputs": [
    {
     "data": {
      "text/plain": [
       "2"
      ]
     },
     "execution_count": 15,
     "metadata": {},
     "output_type": "execute_result"
    }
   ],
   "source": [
    "# Index into a numpy array\n",
    "arr1[0, 1]"
   ]
  },
  {
   "cell_type": "markdown",
   "metadata": {
    "slideshow": {
     "slide_type": "fragment"
    }
   },
   "source": [
    "Working with N-dimensional (multidimensional) arrays is easy within `numpy`."
   ]
  },
  {
   "cell_type": "markdown",
   "metadata": {
    "slideshow": {
     "slide_type": "slide"
    }
   },
   "source": [
    "#### Notes on Arrays"
   ]
  },
  {
   "cell_type": "code",
   "execution_count": 21,
   "metadata": {
    "slideshow": {
     "slide_type": "fragment"
    }
   },
   "outputs": [],
   "source": [
    "# arrays are most helpful when they\n",
    "# have the same length in each list\n",
    "array4 = np.array([[1, 2, 3, 4], [2, 3, 4]])"
   ]
  },
  {
   "cell_type": "code",
   "execution_count": 17,
   "metadata": {
    "slideshow": {
     "slide_type": "fragment"
    }
   },
   "outputs": [
    {
     "data": {
      "text/plain": [
       "array([['1', '2', 'cogs18'],\n",
       "       ['2', '3', '4']], dtype='<U21')"
      ]
     },
     "execution_count": 17,
     "metadata": {},
     "output_type": "execute_result"
    }
   ],
   "source": [
    "# arrays are meant to store homogeneous data\n",
    "np.array([[1, 2, 'cogs18'], [2, 3, 4]])"
   ]
  },
  {
   "cell_type": "markdown",
   "metadata": {
    "slideshow": {
     "slide_type": "slide"
    }
   },
   "source": [
    "#### Working with Arrays\n",
    "\n",
    "(Things you can't do with lists)"
   ]
  },
  {
   "cell_type": "code",
   "execution_count": 23,
   "metadata": {
    "slideshow": {
     "slide_type": "fragment"
    }
   },
   "outputs": [
    {
     "data": {
      "text/plain": [
       "array([[ 6,  8],\n",
       "       [10, 12]])"
      ]
     },
     "execution_count": 23,
     "metadata": {},
     "output_type": "execute_result"
    }
   ],
   "source": [
    "# Add arrays together\n",
    "arr1 + arr2"
   ]
  },
  {
   "cell_type": "code",
   "execution_count": 19,
   "metadata": {
    "slideshow": {
     "slide_type": "fragment"
    }
   },
   "outputs": [
    {
     "data": {
      "text/plain": [
       "array([[ 5, 12],\n",
       "       [21, 32]])"
      ]
     },
     "execution_count": 19,
     "metadata": {},
     "output_type": "execute_result"
    }
   ],
   "source": [
    "# Matrix mutliplication\n",
    "arr1 * arr2"
   ]
  },
  {
   "cell_type": "markdown",
   "metadata": {
    "slideshow": {
     "slide_type": "slide"
    }
   },
   "source": [
    "#### A brief reminder: `zip()`"
   ]
  },
  {
   "cell_type": "markdown",
   "metadata": {},
   "source": [
    "`zip()` takes two iterables (things you can loop over) and loop over them together."
   ]
  },
  {
   "cell_type": "code",
   "execution_count": 20,
   "metadata": {
    "slideshow": {
     "slide_type": "fragment"
    }
   },
   "outputs": [
    {
     "name": "stdout",
     "output_type": "stream",
     "text": [
      "1 a\n",
      "2 b\n"
     ]
    }
   ],
   "source": [
    "for a, b in zip([1,2], ['a','b']):\n",
    "    print(a, b)"
   ]
  },
  {
   "cell_type": "markdown",
   "metadata": {
    "collapsed": true,
    "slideshow": {
     "slide_type": "slide"
    }
   },
   "source": [
    "#### Clicker Question #1\n",
    "\n",
    "Given the following code, what will it print out?"
   ]
  },
  {
   "cell_type": "code",
   "execution_count": 27,
   "metadata": {
    "slideshow": {
     "slide_type": "fragment"
    }
   },
   "outputs": [
    {
     "name": "stdout",
     "output_type": "stream",
     "text": [
      "[6, 8, 10, 12]\n"
     ]
    }
   ],
   "source": [
    "data = np.array([[1, 2, 3, 4],\n",
    "                 [5, 6, 7, 8]])\n",
    " \n",
    "output = []\n",
    "for d1, d2 in zip(data[0,:], data[1,:]):\n",
    "    output.append(d1 + d2)\n",
    "\n",
    "print(output)"
   ]
  },
  {
   "cell_type": "markdown",
   "metadata": {
    "collapsed": true,
    "slideshow": {
     "slide_type": "fragment"
    }
   },
   "source": [
    "- A) [1, 2, 3, 4]\n",
    "- B) [1, 2, 3, 4, 5, 6, 7, 8]\n",
    "- C) [6, 8, 10, 12]\n",
    "- D) [10, 26]\n",
    "- E) [36]"
   ]
  },
  {
   "cell_type": "markdown",
   "metadata": {
    "slideshow": {
     "slide_type": "slide"
    }
   },
   "source": [
    "Note that if you find yourself looping over arrays...there is probably a better way."
   ]
  },
  {
   "cell_type": "code",
   "execution_count": 25,
   "metadata": {
    "slideshow": {
     "slide_type": "fragment"
    }
   },
   "outputs": [
    {
     "data": {
      "text/plain": [
       "36"
      ]
     },
     "execution_count": 25,
     "metadata": {},
     "output_type": "execute_result"
    }
   ],
   "source": [
    "data.sum()"
   ]
  },
  {
   "cell_type": "code",
   "execution_count": 26,
   "metadata": {
    "slideshow": {
     "slide_type": "fragment"
    }
   },
   "outputs": [
    {
     "data": {
      "text/plain": [
       "array([ 6,  8, 10, 12])"
      ]
     },
     "execution_count": 26,
     "metadata": {},
     "output_type": "execute_result"
    }
   ],
   "source": [
    "data.sum(axis=0)"
   ]
  },
  {
   "cell_type": "markdown",
   "metadata": {
    "slideshow": {
     "slide_type": "slide"
    }
   },
   "source": [
    "## Heterogenous Data\n",
    "\n",
    "- have continuous (numeric) and categorical (discrete) data\n",
    "- different data types need to be stored\n",
    "- uses a DataFrame object (think: spreadsheet)\n",
    "- allows for column and row labels"
   ]
  },
  {
   "cell_type": "markdown",
   "metadata": {
    "slideshow": {
     "slide_type": "fragment"
    }
   },
   "source": [
    "### pandas"
   ]
  },
  {
   "cell_type": "code",
   "execution_count": 30,
   "metadata": {
    "slideshow": {
     "slide_type": "fragment"
    }
   },
   "outputs": [],
   "source": [
    "import pandas as pd"
   ]
  },
  {
   "cell_type": "code",
   "execution_count": 31,
   "metadata": {
    "slideshow": {
     "slide_type": "fragment"
    }
   },
   "outputs": [],
   "source": [
    "# Create some example heterogenous data\n",
    "d1 = {'Subj_ID': '001', 'score': 16, 'group' : 2, 'condition': 'cognition'}\n",
    "d2 = {'Subj_ID': '002', 'score': 22, 'group' : 1, 'condition': 'perception'}"
   ]
  },
  {
   "cell_type": "code",
   "execution_count": 32,
   "metadata": {},
   "outputs": [
    {
     "data": {
      "text/plain": [
       "{'Subj_ID': '001', 'score': 16, 'group': 2, 'condition': 'cognition'}"
      ]
     },
     "execution_count": 32,
     "metadata": {},
     "output_type": "execute_result"
    }
   ],
   "source": [
    "d1"
   ]
  },
  {
   "cell_type": "code",
   "execution_count": 33,
   "metadata": {
    "slideshow": {
     "slide_type": "fragment"
    }
   },
   "outputs": [],
   "source": [
    "# Create a dataframe \n",
    "df = pd.DataFrame([d1, d2], [0, 1])"
   ]
  },
  {
   "cell_type": "code",
   "execution_count": 34,
   "metadata": {
    "scrolled": true,
    "slideshow": {
     "slide_type": "slide"
    }
   },
   "outputs": [
    {
     "data": {
      "text/html": [
       "<div>\n",
       "<style scoped>\n",
       "    .dataframe tbody tr th:only-of-type {\n",
       "        vertical-align: middle;\n",
       "    }\n",
       "\n",
       "    .dataframe tbody tr th {\n",
       "        vertical-align: top;\n",
       "    }\n",
       "\n",
       "    .dataframe thead th {\n",
       "        text-align: right;\n",
       "    }\n",
       "</style>\n",
       "<table border=\"1\" class=\"dataframe\">\n",
       "  <thead>\n",
       "    <tr style=\"text-align: right;\">\n",
       "      <th></th>\n",
       "      <th>Subj_ID</th>\n",
       "      <th>condition</th>\n",
       "      <th>group</th>\n",
       "      <th>score</th>\n",
       "    </tr>\n",
       "  </thead>\n",
       "  <tbody>\n",
       "    <tr>\n",
       "      <th>0</th>\n",
       "      <td>001</td>\n",
       "      <td>cognition</td>\n",
       "      <td>2</td>\n",
       "      <td>16</td>\n",
       "    </tr>\n",
       "    <tr>\n",
       "      <th>1</th>\n",
       "      <td>002</td>\n",
       "      <td>perception</td>\n",
       "      <td>1</td>\n",
       "      <td>22</td>\n",
       "    </tr>\n",
       "  </tbody>\n",
       "</table>\n",
       "</div>"
      ],
      "text/plain": [
       "  Subj_ID   condition  group  score\n",
       "0     001   cognition      2     16\n",
       "1     002  perception      1     22"
      ]
     },
     "execution_count": 34,
     "metadata": {},
     "output_type": "execute_result"
    }
   ],
   "source": [
    "# Check out the dataframe\n",
    "df"
   ]
  },
  {
   "cell_type": "code",
   "execution_count": 35,
   "metadata": {
    "scrolled": true,
    "slideshow": {
     "slide_type": "fragment"
    }
   },
   "outputs": [
    {
     "data": {
      "text/plain": [
       "0     cognition\n",
       "1    perception\n",
       "Name: condition, dtype: object"
      ]
     },
     "execution_count": 35,
     "metadata": {},
     "output_type": "execute_result"
    }
   ],
   "source": [
    "# You can index in pandas\n",
    "df['condition']"
   ]
  },
  {
   "cell_type": "code",
   "execution_count": 36,
   "metadata": {
    "scrolled": true,
    "slideshow": {
     "slide_type": "fragment"
    }
   },
   "outputs": [
    {
     "data": {
      "text/plain": [
       "Subj_ID            001\n",
       "condition    cognition\n",
       "group                2\n",
       "score               16\n",
       "Name: 0, dtype: object"
      ]
     },
     "execution_count": 36,
     "metadata": {},
     "output_type": "execute_result"
    }
   ],
   "source": [
    "# You can index in pandas\n",
    "df.loc[0,:]"
   ]
  },
  {
   "cell_type": "markdown",
   "metadata": {
    "slideshow": {
     "slide_type": "slide"
    }
   },
   "source": [
    "#### Working with DataFrames"
   ]
  },
  {
   "cell_type": "code",
   "execution_count": 37,
   "metadata": {
    "slideshow": {
     "slide_type": "fragment"
    }
   },
   "outputs": [
    {
     "data": {
      "text/html": [
       "<div>\n",
       "<style scoped>\n",
       "    .dataframe tbody tr th:only-of-type {\n",
       "        vertical-align: middle;\n",
       "    }\n",
       "\n",
       "    .dataframe tbody tr th {\n",
       "        vertical-align: top;\n",
       "    }\n",
       "\n",
       "    .dataframe thead th {\n",
       "        text-align: right;\n",
       "    }\n",
       "</style>\n",
       "<table border=\"1\" class=\"dataframe\">\n",
       "  <thead>\n",
       "    <tr style=\"text-align: right;\">\n",
       "      <th></th>\n",
       "      <th>group</th>\n",
       "      <th>score</th>\n",
       "    </tr>\n",
       "  </thead>\n",
       "  <tbody>\n",
       "    <tr>\n",
       "      <th>count</th>\n",
       "      <td>2.000000</td>\n",
       "      <td>2.000000</td>\n",
       "    </tr>\n",
       "    <tr>\n",
       "      <th>mean</th>\n",
       "      <td>1.500000</td>\n",
       "      <td>19.000000</td>\n",
       "    </tr>\n",
       "    <tr>\n",
       "      <th>std</th>\n",
       "      <td>0.707107</td>\n",
       "      <td>4.242641</td>\n",
       "    </tr>\n",
       "    <tr>\n",
       "      <th>min</th>\n",
       "      <td>1.000000</td>\n",
       "      <td>16.000000</td>\n",
       "    </tr>\n",
       "    <tr>\n",
       "      <th>25%</th>\n",
       "      <td>1.250000</td>\n",
       "      <td>17.500000</td>\n",
       "    </tr>\n",
       "    <tr>\n",
       "      <th>50%</th>\n",
       "      <td>1.500000</td>\n",
       "      <td>19.000000</td>\n",
       "    </tr>\n",
       "    <tr>\n",
       "      <th>75%</th>\n",
       "      <td>1.750000</td>\n",
       "      <td>20.500000</td>\n",
       "    </tr>\n",
       "    <tr>\n",
       "      <th>max</th>\n",
       "      <td>2.000000</td>\n",
       "      <td>22.000000</td>\n",
       "    </tr>\n",
       "  </tbody>\n",
       "</table>\n",
       "</div>"
      ],
      "text/plain": [
       "          group      score\n",
       "count  2.000000   2.000000\n",
       "mean   1.500000  19.000000\n",
       "std    0.707107   4.242641\n",
       "min    1.000000  16.000000\n",
       "25%    1.250000  17.500000\n",
       "50%    1.500000  19.000000\n",
       "75%    1.750000  20.500000\n",
       "max    2.000000  22.000000"
      ]
     },
     "execution_count": 37,
     "metadata": {},
     "output_type": "execute_result"
    }
   ],
   "source": [
    "df.describe()"
   ]
  },
  {
   "cell_type": "code",
   "execution_count": 38,
   "metadata": {
    "slideshow": {
     "slide_type": "fragment"
    }
   },
   "outputs": [
    {
     "data": {
      "text/plain": [
       "Subj_ID                     (1+9.5j)\n",
       "condition    (2.1213203435596424+8j)\n",
       "group                       (1.5+0j)\n",
       "score                        (19+0j)\n",
       "dtype: complex128"
      ]
     },
     "execution_count": 38,
     "metadata": {},
     "output_type": "execute_result"
    }
   ],
   "source": [
    "# Take the average of all numeric columns\n",
    "df.mean()"
   ]
  },
  {
   "cell_type": "markdown",
   "metadata": {
    "slideshow": {
     "slide_type": "slide"
    }
   },
   "source": [
    "#### Clicker Question #2\n",
    "\n",
    "Comparing them to standard library Python types, which is the best mapping for these new data types?\n",
    "\n",
    "- A) DataFrames are like lists, arrays are like tuples\n",
    "- B) DataFrames and arrays are like lists\n",
    "- C) DataFrames are like tuples, arrays are like lists\n",
    "- D) DataFrames and arrays are like dictionaries\n",
    "- E) Dataframes are like dictionaries, arrays are like lists"
   ]
  },
  {
   "cell_type": "markdown",
   "metadata": {
    "slideshow": {
     "slide_type": "slide"
    }
   },
   "source": [
    "## Plotting"
   ]
  },
  {
   "cell_type": "code",
   "execution_count": 39,
   "metadata": {
    "slideshow": {
     "slide_type": "fragment"
    }
   },
   "outputs": [],
   "source": [
    "%matplotlib inline\n",
    "\n",
    "import matplotlib.pyplot as plt"
   ]
  },
  {
   "cell_type": "code",
   "execution_count": 40,
   "metadata": {
    "slideshow": {
     "slide_type": "fragment"
    }
   },
   "outputs": [],
   "source": [
    "# Create some data\n",
    "dat = np.array([1, 2, 4, 8, 16, 32])"
   ]
  },
  {
   "cell_type": "code",
   "execution_count": 41,
   "metadata": {
    "slideshow": {
     "slide_type": "slide"
    }
   },
   "outputs": [
    {
     "data": {
      "image/png": "[encoded data removed]",
      "text/plain": [
       "<Figure size 432x288 with 1 Axes>"
      ]
     },
     "metadata": {
      "needs_background": "light"
     },
     "output_type": "display_data"
    }
   ],
   "source": [
    "# Plot the data\n",
    "plt.plot(dat);"
   ]
  },
  {
   "cell_type": "markdown",
   "metadata": {
    "slideshow": {
     "slide_type": "fragment"
    }
   },
   "source": [
    "- can change plot type\n",
    "- _lots_ of customizations possible"
   ]
  },
  {
   "cell_type": "markdown",
   "metadata": {
    "slideshow": {
     "slide_type": "slide"
    }
   },
   "source": [
    "## Analysis\n",
    "\n",
    "- `scipy` - statistical analysis\n",
    "- `sklearn` - machine learning"
   ]
  },
  {
   "cell_type": "code",
   "execution_count": 42,
   "metadata": {
    "slideshow": {
     "slide_type": "fragment"
    }
   },
   "outputs": [],
   "source": [
    "import scipy as sp\n",
    "from scipy import stats"
   ]
  },
  {
   "cell_type": "code",
   "execution_count": 43,
   "metadata": {
    "slideshow": {
     "slide_type": "slide"
    }
   },
   "outputs": [],
   "source": [
    "# Simulate some data\n",
    "d1 = stats.norm.rvs(loc=0, size=1000)\n",
    "d2 = stats.norm.rvs(loc=0.5, size=1000)"
   ]
  },
  {
   "cell_type": "markdown",
   "metadata": {
    "slideshow": {
     "slide_type": "slide"
    }
   },
   "source": [
    "### Analysis - Plotting the Data"
   ]
  },
  {
   "cell_type": "code",
   "execution_count": 44,
   "metadata": {
    "slideshow": {
     "slide_type": "fragment"
    }
   },
   "outputs": [
    {
     "data": {
      "image/png": "[encoded data removed]",
      "text/plain": [
       "<Figure size 432x288 with 1 Axes>"
      ]
     },
     "metadata": {
      "needs_background": "light"
     },
     "output_type": "display_data"
    }
   ],
   "source": [
    "# Plot the data\n",
    "plt.hist(d1, 25, alpha=0.6);\n",
    "plt.hist(d2, 25, alpha=0.6);"
   ]
  },
  {
   "cell_type": "markdown",
   "metadata": {
    "slideshow": {
     "slide_type": "slide"
    }
   },
   "source": [
    "### Analysis - Statistical Comparisons"
   ]
  },
  {
   "cell_type": "code",
   "execution_count": 45,
   "metadata": {
    "scrolled": false,
    "slideshow": {
     "slide_type": "fragment"
    }
   },
   "outputs": [
    {
     "data": {
      "text/plain": [
       "Ttest_indResult(statistic=-11.321459970682378, pvalue=7.612910941171958e-29)"
      ]
     },
     "execution_count": 45,
     "metadata": {},
     "output_type": "execute_result"
    }
   ],
   "source": [
    "# Statistically compare the two distributions\n",
    "stats.ttest_ind(d1, d2)"
   ]
  },
  {
   "cell_type": "markdown",
   "metadata": {
    "slideshow": {
     "slide_type": "slide"
    }
   },
   "source": [
    "## COGS108: Data Science in Practice"
   ]
  },
  {
   "cell_type": "markdown",
   "metadata": {
    "collapsed": true,
    "slideshow": {
     "slide_type": "fragment"
    }
   },
   "source": [
    "<div class=\"alert alert-info\">\n",
    "If you are interested in data science and scientific computing in Python, consider taking <b>COGS108</b> : <a>https://github.com/COGS108/</a>.\n",
    "</div>"
   ]
  },
  {
   "cell_type": "markdown",
   "metadata": {
    "slideshow": {
     "slide_type": "slide"
    }
   },
   "source": [
    "# APIs\n",
    "\n",
    "- modules\n",
    "    - review\n",
    "    - module APIs\n",
    "- RESTful APIs\n",
    "    - LISC\n",
    "    - Twitter API"
   ]
  },
  {
   "cell_type": "markdown",
   "metadata": {
    "slideshow": {
     "slide_type": "slide"
    }
   },
   "source": [
    "## Application Programming Interface"
   ]
  },
  {
   "cell_type": "markdown",
   "metadata": {
    "slideshow": {
     "slide_type": "fragment"
    }
   },
   "source": [
    "<div class=\"alert alert-success\">\n",
    "An <b>API</b> is a programmatic interface to an application - a software to software interface, or way for programs to talk to other programs. \n",
    "</div>"
   ]
  },
  {
   "cell_type": "markdown",
   "metadata": {
    "slideshow": {
     "slide_type": "fragment"
    }
   },
   "source": [
    "If you are pointing and clicking on computer applications, that is _not_ an API.\n",
    "\n",
    "If you are writing code to interact with software and get information, that _IS_ an API."
   ]
  },
  {
   "cell_type": "markdown",
   "metadata": {
    "slideshow": {
     "slide_type": "slide"
    }
   },
   "source": [
    "## Module APIs"
   ]
  },
  {
   "cell_type": "markdown",
   "metadata": {
    "slideshow": {
     "slide_type": "fragment"
    }
   },
   "source": [
    "Modules have an API. Every time you write or use a set of functions and/or classes, you are writing or using an API. "
   ]
  },
  {
   "cell_type": "markdown",
   "metadata": {
    "slideshow": {
     "slide_type": "slide"
    }
   },
   "source": [
    "## Quick Review: Modules"
   ]
  },
  {
   "cell_type": "markdown",
   "metadata": {
    "slideshow": {
     "slide_type": "fragment"
    }
   },
   "source": [
    "<div class=\"alert alert-success\">\n",
    "A <b>module</b> is a set of Python code with functions, classes, etc. available in it. A Python <b>package</b> is a directory of modules.\n",
    "</div>"
   ]
  },
  {
   "cell_type": "markdown",
   "metadata": {
    "slideshow": {
     "slide_type": "fragment"
    }
   },
   "source": [
    "Modules are stored in Python files. We can import these files into our namespace, to gain access to the module within Python."
   ]
  },
  {
   "cell_type": "code",
   "execution_count": 46,
   "metadata": {
    "slideshow": {
     "slide_type": "fragment"
    }
   },
   "outputs": [
    {
     "data": {
      "text/plain": [
       "3.0"
      ]
     },
     "execution_count": 46,
     "metadata": {},
     "output_type": "execute_result"
    }
   ],
   "source": [
    "# Import & use the math module\n",
    "import math\n",
    "math.sqrt(9)"
   ]
  },
  {
   "cell_type": "markdown",
   "metadata": {
    "slideshow": {
     "slide_type": "slide"
    }
   },
   "source": [
    "### Imports: `from` & `as`"
   ]
  },
  {
   "cell_type": "code",
   "execution_count": 47,
   "metadata": {
    "slideshow": {
     "slide_type": "fragment"
    }
   },
   "outputs": [
    {
     "data": {
      "text/plain": [
       "'Outlook not so good'"
      ]
     },
     "execution_count": 47,
     "metadata": {},
     "output_type": "execute_result"
    }
   ],
   "source": [
    "# Import a specific object from a module\n",
    "from random import choice\n",
    "\n",
    "# use random.choice\n",
    "magic_8_ball = ['As I see it, yes!', 'Most likely.', \n",
    "                'Ask again later.', 'Don\\'t Count on it', \n",
    "                'Outlook not so good']\n",
    "\n",
    "choice(magic_8_ball)"
   ]
  },
  {
   "cell_type": "code",
   "execution_count": 48,
   "metadata": {
    "slideshow": {
     "slide_type": "fragment"
    }
   },
   "outputs": [
    {
     "data": {
      "text/plain": [
       "\"Don't Count on it\""
      ]
     },
     "execution_count": 48,
     "metadata": {},
     "output_type": "execute_result"
    }
   ],
   "source": [
    "# Import a specific object from a module using an alias\n",
    "from random import choice as ch\n",
    "\n",
    "# use shorter name \n",
    "ch(magic_8_ball)"
   ]
  },
  {
   "cell_type": "markdown",
   "metadata": {
    "collapsed": true,
    "slideshow": {
     "slide_type": "slide"
    }
   },
   "source": [
    "### Importing Custom Code"
   ]
  },
  {
   "cell_type": "code",
   "execution_count": 49,
   "metadata": {
    "slideshow": {
     "slide_type": "fragment"
    }
   },
   "outputs": [],
   "source": [
    "# Import a class class from an external module\n",
    "from remote import MyNumbers"
   ]
  },
  {
   "cell_type": "code",
   "execution_count": 50,
   "metadata": {
    "scrolled": true,
    "slideshow": {
     "slide_type": "fragment"
    }
   },
   "outputs": [
    {
     "data": {
      "text/plain": [
       "5"
      ]
     },
     "execution_count": 50,
     "metadata": {},
     "output_type": "execute_result"
    }
   ],
   "source": [
    "# Define an instance of our custom class\n",
    "# apply method\n",
    "out = MyNumbers(2, 3).add()\n",
    "out"
   ]
  },
  {
   "cell_type": "code",
   "execution_count": 51,
   "metadata": {
    "slideshow": {
     "slide_type": "fragment"
    }
   },
   "outputs": [],
   "source": [
    "# remember we only imported MyNumbers\n",
    "choice?"
   ]
  },
  {
   "cell_type": "markdown",
   "metadata": {
    "slideshow": {
     "slide_type": "slide"
    }
   },
   "source": [
    "## Module APIs"
   ]
  },
  {
   "cell_type": "markdown",
   "metadata": {
    "slideshow": {
     "slide_type": "fragment"
    }
   },
   "source": [
    "Modules have an API. Every time you write or use a set of functions and/or classes, you are writing or using an API. "
   ]
  },
  {
   "cell_type": "markdown",
   "metadata": {
    "slideshow": {
     "slide_type": "slide"
    }
   },
   "source": [
    "#### Clicker Question #3\n",
    "\n",
    "What will the following code snippet print out:"
   ]
  },
  {
   "cell_type": "code",
   "execution_count": null,
   "metadata": {
    "slideshow": {
     "slide_type": "fragment"
    }
   },
   "outputs": [],
   "source": [
    "def foo(a, b, c=0):\n",
    "    d = c\n",
    "    for e in a[:b]:\n",
    "        d += e\n",
    "    return d\n",
    "\n",
    "print(foo(b=2, a=[10, 10, 10, 10]))"
   ]
  },
  {
   "cell_type": "markdown",
   "metadata": {
    "slideshow": {
     "slide_type": "fragment"
    }
   },
   "source": [
    "- A) 10\n",
    "- B) 20\n",
    "- C) 30 \n",
    "- D) 40\n",
    "- E) None"
   ]
  },
  {
   "cell_type": "markdown",
   "metadata": {
    "slideshow": {
     "slide_type": "slide"
    }
   },
   "source": [
    "#### Clicker Question #4\n",
    "\n",
    "How easy did you find interpreting this code?\n",
    "\n",
    "- A) Easy\n",
    "- B) Fairly Easy\n",
    "- C) Neutral\n",
    "- D) Somewhat Difficult\n",
    "- E) Difficult"
   ]
  },
  {
   "cell_type": "markdown",
   "metadata": {
    "slideshow": {
     "slide_type": "fragment"
    }
   },
   "source": [
    "Arguably, this function does _not_ have a good API."
   ]
  },
  {
   "cell_type": "markdown",
   "metadata": {
    "slideshow": {
     "slide_type": "slide"
    }
   },
   "source": [
    "### Function with Fixed Names"
   ]
  },
  {
   "cell_type": "markdown",
   "metadata": {
    "slideshow": {
     "slide_type": "slide"
    }
   },
   "source": [
    "#### Clicker Question #5\n",
    "\n",
    "What will the following code snippet print out:"
   ]
  },
  {
   "cell_type": "code",
   "execution_count": 52,
   "metadata": {
    "slideshow": {
     "slide_type": "fragment"
    }
   },
   "outputs": [
    {
     "name": "stdout",
     "output_type": "stream",
     "text": [
      "20\n"
     ]
    }
   ],
   "source": [
    "def sum_across_list(list_to_count, end_index, start_val=0):\n",
    "\n",
    "    running_count = start_val\n",
    "    \n",
    "    for element in list_to_count[:end_index]:\n",
    "        running_count += element\n",
    "    \n",
    "    return running_count\n",
    "\n",
    "print(sum_across_list(end_index=2, list_to_count=[10, 10, 10, 10]))"
   ]
  },
  {
   "cell_type": "markdown",
   "metadata": {
    "slideshow": {
     "slide_type": "fragment"
    }
   },
   "source": [
    "- A) 10\n",
    "- B) 20\n",
    "- C) 30 \n",
    "- D) 40\n",
    "- E) None"
   ]
  },
  {
   "cell_type": "markdown",
   "metadata": {
    "slideshow": {
     "slide_type": "slide"
    }
   },
   "source": [
    "#### Clicker Question #6\n",
    "\n",
    "How easy did you find interpreting this code?\n",
    "\n",
    "- A) Easy\n",
    "- B) Fairly Easy\n",
    "- C) Neutral\n",
    "- D) Somewaht Difficult\n",
    "- E) Difficult"
   ]
  },
  {
   "cell_type": "markdown",
   "metadata": {
    "slideshow": {
     "slide_type": "fragment"
    }
   },
   "source": [
    "This is the same function, but has a better API."
   ]
  },
  {
   "cell_type": "markdown",
   "metadata": {
    "slideshow": {
     "slide_type": "slide"
    }
   },
   "source": [
    "## Names Matter!"
   ]
  },
  {
   "cell_type": "markdown",
   "metadata": {
    "slideshow": {
     "slide_type": "fragment"
    }
   },
   "source": [
    "When writing an API, you are designing the user facing code that a programmer (maybe you in the future) will use.\n",
    "\n",
    "When using an API, you are using the programmer-facing code that someone else wrote for the task. \n",
    "\n",
    "Taking time to have good names and clear documentation can *really help* a programmer interact with an API. "
   ]
  },
  {
   "cell_type": "markdown",
   "metadata": {
    "slideshow": {
     "slide_type": "slide"
    }
   },
   "source": [
    "## Web APIs"
   ]
  },
  {
   "cell_type": "markdown",
   "metadata": {
    "slideshow": {
     "slide_type": "fragment"
    }
   },
   "source": [
    "APIs are an interface to interact with an application, _designed for programmatic use_ :\n",
    "- They allow systematic, controlled access to (for example) an applications database and procedures\n",
    "- They can be used to request data and/or to request that the the application perform some procedure"
   ]
  },
  {
   "cell_type": "markdown",
   "metadata": {
    "slideshow": {
     "slide_type": "slide"
    }
   },
   "source": [
    "### RESTful API\n",
    "\n",
    "(Representational State Transfer API) \n",
    "\n",
    "An approach to interact with web addresses"
   ]
  },
  {
   "cell_type": "markdown",
   "metadata": {
    "slideshow": {
     "slide_type": "slide"
    }
   },
   "source": [
    "## EUtils API"
   ]
  },
  {
   "cell_type": "markdown",
   "metadata": {
    "slideshow": {
     "slide_type": "fragment"
    }
   },
   "source": [
    "<div class=\"alert alert-success\">\n",
    "EUtils is a web accessible API for the National Center for Biotechnology Information, and the databases they curate.\n",
    "</div>"
   ]
  },
  {
   "cell_type": "markdown",
   "metadata": {
    "slideshow": {
     "slide_type": "slide"
    }
   },
   "source": [
    "### EUtils: Search\n",
    "\n",
    "Search a database to get information we want it to return"
   ]
  },
  {
   "cell_type": "code",
   "execution_count": 53,
   "metadata": {
    "slideshow": {
     "slide_type": "fragment"
    }
   },
   "outputs": [],
   "source": [
    "# Set the base URL for the e-utils API\n",
    "# where you go to query information from this web address\n",
    "base_url = 'http://eutils.ncbi.nlm.nih.gov/entrez/eutils/'"
   ]
  },
  {
   "cell_type": "markdown",
   "metadata": {
    "slideshow": {
     "slide_type": "fragment"
    }
   },
   "source": [
    "Build a URL like a Python function call...\n",
    "\n",
    "We're just adding some additional 'parameters'."
   ]
  },
  {
   "cell_type": "code",
   "execution_count": 54,
   "metadata": {
    "slideshow": {
     "slide_type": "fragment"
    }
   },
   "outputs": [],
   "source": [
    "# Set the information we need for launching a search request\n",
    "search = 'esearch.fcgi?'\n",
    "term = 'term=' + 'brain'"
   ]
  },
  {
   "cell_type": "markdown",
   "metadata": {
    "slideshow": {
     "slide_type": "fragment"
    }
   },
   "source": [
    "Interacting with APIs specifies that we follow the rules specified by the API from which we're requesting information."
   ]
  },
  {
   "cell_type": "markdown",
   "metadata": {
    "slideshow": {
     "slide_type": "slide"
    }
   },
   "source": [
    "### EUtils: Fetch"
   ]
  },
  {
   "cell_type": "code",
   "execution_count": 55,
   "metadata": {
    "slideshow": {
     "slide_type": "fragment"
    }
   },
   "outputs": [
    {
     "name": "stdout",
     "output_type": "stream",
     "text": [
      "http://eutils.ncbi.nlm.nih.gov/entrez/eutils/esearch.fcgi?term=brain\n"
     ]
    }
   ],
   "source": [
    "# Build the full search URL\n",
    "search_url = base_url + search + term\n",
    "print(search_url)"
   ]
  },
  {
   "cell_type": "code",
   "execution_count": 56,
   "metadata": {
    "slideshow": {
     "slide_type": "fragment"
    }
   },
   "outputs": [],
   "source": [
    "# Set the information we need for launching a fetch request\n",
    "fetch = 'efetch.fcgi?'\n",
    "db = 'db=' + 'pubmed'\n",
    "retmode = '&retmode=' + 'xml'\n",
    "pubmed_id = '&id=' + str(30439964)"
   ]
  },
  {
   "cell_type": "code",
   "execution_count": 57,
   "metadata": {
    "slideshow": {
     "slide_type": "fragment"
    }
   },
   "outputs": [
    {
     "name": "stdout",
     "output_type": "stream",
     "text": [
      "http://eutils.ncbi.nlm.nih.gov/entrez/eutils/efetch.fcgi?db=pubmed&retmode=xml&id=30439964\n"
     ]
    }
   ],
   "source": [
    "# Build the full search URL\n",
    "fetch_url = base_url + fetch + db + retmode + pubmed_id\n",
    "print(fetch_url)"
   ]
  },
  {
   "cell_type": "markdown",
   "metadata": {
    "slideshow": {
     "slide_type": "fragment"
    }
   },
   "source": [
    "But, our goal isn't to see this information in a web browser. Web browsers are for humans. We want to use this information computationally..."
   ]
  },
  {
   "cell_type": "markdown",
   "metadata": {
    "slideshow": {
     "slide_type": "slide"
    }
   },
   "source": [
    "## Requesting Web Pages from Python\n",
    "\n",
    "To accomplish API interactions, we need to use HTTP requests."
   ]
  },
  {
   "cell_type": "code",
   "execution_count": 58,
   "metadata": {
    "slideshow": {
     "slide_type": "fragment"
    }
   },
   "outputs": [],
   "source": [
    "# The requests module allows you to send URL requests from python\n",
    "import requests\n",
    "\n",
    "# Beautiful Soup has functions to 'clean up' returned web pages into human-friendlier formats\n",
    "from bs4 import BeautifulSoup"
   ]
  },
  {
   "cell_type": "markdown",
   "metadata": {
    "slideshow": {
     "slide_type": "slide"
    }
   },
   "source": [
    "### EUtils Search, through Python"
   ]
  },
  {
   "cell_type": "code",
   "execution_count": 59,
   "metadata": {},
   "outputs": [
    {
     "name": "stdout",
     "output_type": "stream",
     "text": [
      "http://eutils.ncbi.nlm.nih.gov/entrez/eutils/esearch.fcgi?term=brain\n"
     ]
    }
   ],
   "source": [
    "print(search_url)"
   ]
  },
  {
   "cell_type": "code",
   "execution_count": 60,
   "metadata": {
    "slideshow": {
     "slide_type": "fragment"
    }
   },
   "outputs": [],
   "source": [
    "# Request the search page, and parse\n",
    "search_page = requests.get(search_url)\n",
    "search_content = BeautifulSoup(search_page.content, 'xml')"
   ]
  },
  {
   "cell_type": "code",
   "execution_count": 61,
   "metadata": {
    "slideshow": {
     "slide_type": "fragment"
    }
   },
   "outputs": [
    {
     "data": {
      "text/plain": [
       "<?xml version=\"1.0\" encoding=\"utf-8\"?>\n",
       "<!DOCTYPE eSearchResult PUBLIC \"-//NLM//DTD esearch 20060628//EN\" \"https://eutils.ncbi.nlm.nih.gov/eutils/dtd/20060628/esearch.dtd\">\n",
       "<eSearchResult><Count>1982799</Count><RetMax>20</RetMax><RetStart>0</RetStart><IdList>\n",
       "<Id>32721125</Id>\n",
       "<Id>32721123</Id>\n",
       "<Id>32721081</Id>\n",
       "<Id>32721055</Id>\n",
       "<Id>32721035</Id>\n",
       "<Id>32720915</Id>\n",
       "<Id>32720904</Id>\n",
       "<Id>32720895</Id>\n",
       "<Id>32720870</Id>\n",
       "<Id>32720869</Id>\n",
       "<Id>32720857</Id>\n",
       "<Id>32720856</Id>\n",
       "<Id>32720845</Id>\n",
       "<Id>32720835</Id>\n",
       "<Id>32720776</Id>\n",
       "<Id>32720756</Id>\n",
       "<Id>32720711</Id>\n",
       "<Id>32720707</Id>\n",
       "<Id>32720701</Id>\n",
       "<Id>32720690</Id>\n",
       "</IdList><TranslationSet><Translation> <From>brain</From> <To>\"brain\"[MeSH Terms] OR \"brain\"[All Fields]</To> </Translation></TranslationSet><TranslationStack> <TermSet> <Term>\"brain\"[MeSH Terms]</Term> <Field>MeSH Terms</Field> <Count>1205235</Count> <Explode>Y</Explode> </TermSet> <TermSet> <Term>\"brain\"[All Fields]</Term> <Field>All Fields</Field> <Count>1590084</Count> <Explode>N</Explode> </TermSet> <OP>OR</OP> <OP>GROUP</OP> </TranslationStack><QueryTranslation>\"brain\"[MeSH Terms] OR \"brain\"[All Fields]</QueryTranslation></eSearchResult>"
      ]
     },
     "execution_count": 61,
     "metadata": {},
     "output_type": "execute_result"
    }
   ],
   "source": [
    "# Check out the content of the returned page\n",
    "search_content"
   ]
  },
  {
   "cell_type": "markdown",
   "metadata": {
    "slideshow": {
     "slide_type": "slide"
    }
   },
   "source": [
    "### EUtils Fetch, through Python"
   ]
  },
  {
   "cell_type": "code",
   "execution_count": 62,
   "metadata": {},
   "outputs": [
    {
     "name": "stdout",
     "output_type": "stream",
     "text": [
      "http://eutils.ncbi.nlm.nih.gov/entrez/eutils/efetch.fcgi?db=pubmed&retmode=xml&id=30439964\n"
     ]
    }
   ],
   "source": [
    "print(fetch_url)"
   ]
  },
  {
   "cell_type": "code",
   "execution_count": 63,
   "metadata": {
    "slideshow": {
     "slide_type": "fragment"
    }
   },
   "outputs": [],
   "source": [
    "# Request the fetch page, and parse\n",
    "fetch_page = requests.get(fetch_url)\n",
    "fetch_content = BeautifulSoup(fetch_page.content, 'lxml')"
   ]
  },
  {
   "cell_type": "code",
   "execution_count": 64,
   "metadata": {
    "scrolled": false,
    "slideshow": {
     "slide_type": "fragment"
    }
   },
   "outputs": [
    {
     "data": {
      "text/plain": [
       "<?xml version=\"1.0\" ?><!DOCTYPE PubmedArticleSet PUBLIC \"-//NLM//DTD PubMedArticle, 1st January 2019//EN\" \"https://dtd.nlm.nih.gov/ncbi/pubmed/out/pubmed_190101.dtd\">\n",
       "<html><body><pubmedarticleset>\n",
       "<pubmedarticle>\n",
       "<medlinecitation owner=\"NLM\" status=\"MEDLINE\">\n",
       "<pmid version=\"1\">30439964</pmid>\n",
       "<datecompleted>\n",
       "<year>2019</year>\n",
       "<month>04</month>\n",
       "<day>09</day>\n",
       "</datecompleted>\n",
       "<daterevised>\n",
       "<year>2019</year>\n",
       "<month>04</month>\n",
       "<day>09</day>\n",
       "</daterevised>\n",
       "<article pubmodel=\"Electronic-eCollection\">\n",
       "<journal>\n",
       "<issn issntype=\"Electronic\">1932-6203</issn>\n",
       "<journalissue citedmedium=\"Internet\">\n",
       "<volume>13</volume>\n",
       "<issue>11</issue>\n",
       "<pubdate>\n",
       "<year>2018</year>\n",
       "</pubdate>\n",
       "</journalissue>\n",
       "<title>PloS one</title>\n",
       "<isoabbreviation>PLoS ONE</isoabbreviation>\n",
       "</journal>\n",
       "<articletitle>Hyperacute changes in blood mRNA expression profiles of rats after middle cerebral artery occlusion: Towards a stroke time signature.</articletitle>\n",
       "<pagination>\n",
       "<medlinepgn>e0206321</medlinepgn>\n",
       "</pagination>\n",
       "<elocationid eidtype=\"doi\" validyn=\"Y\">10.1371/journal.pone.0206321</elocationid>\n",
       "<abstract>\n",
       "<abstracttext>Stroke evolution is a highly dynamic but variable disease which makes clinical decision making difficult. Biomarker discovery programs intended to aid clinical decision making have however largely ignored the rapidity of stroke evolution. We have used gene array technology to determine blood mRNA expression changes over the first day after stroke in rats. Blood samples were collected from 8 male spontaneously hypertensive rats at 0, 1, 2, 3, 6 and 24h post stroke induction by middle cerebral artery occlusion. RNA was extracted from whole blood stabilized in PAXgene tubes and mRNA expression was detected by oligonucleotide Affymetrix microarray. Using a pairwise comparison model, 1932 genes were identified to vary significantly over time (pâ‰¤0.5x10(-7)) within 24h after stroke. Some of the top20 most changed genes are already known to be relevant to the ischemic stroke physiopathology (e.g. Il-1R, Nos2, Prok2). Cluster analysis showed multiple stereotyped and time dependent profiles of gene expression. Direction and rate of change of expression for some profiles varied dramatically during these 24h. Profiles with potential clinical utility including hyper acute or acute transient upregulation (with expression peaking from 2 to 6h after stroke and normalisation by 24h) were identified. We found that blood gene expression varies rapidly and stereotypically after stroke in rats. Previous researchers have often missed the optimum time for biomarker measurement. Temporally overlapping profiles have the potential to provide a biological \"stroke clock\" able to tell the clinician how far an individual stroke has evolved.</abstracttext>\n",
       "</abstract>\n",
       "<authorlist completeyn=\"Y\">\n",
       "<author validyn=\"Y\">\n",
       "<lastname>Dagonnier</lastname>\n",
       "<forename>Marie</forename>\n",
       "<initials>M</initials>\n",
       "<identifier source=\"ORCID\">0000-0002-0981-4962</identifier>\n",
       "<affiliationinfo>\n",
       "<affiliation>The Florey Institute of Neuroscience and Mental Health, Melbourne Brain Centre, Austin Campus, Heidelberg, Australia.</affiliation>\n",
       "</affiliationinfo>\n",
       "</author>\n",
       "<author validyn=\"Y\">\n",
       "<lastname>Wilson</lastname>\n",
       "<forename>William John</forename>\n",
       "<initials>WJ</initials>\n",
       "<affiliationinfo>\n",
       "<affiliation>The Commonwealth Scientific and Industrial Research Organisation (CSIRO), Sydney, Australia.</affiliation>\n",
       "</affiliationinfo>\n",
       "</author>\n",
       "<author validyn=\"Y\">\n",
       "<lastname>Favaloro</lastname>\n",
       "<forename>Jenny Margaret</forename>\n",
       "<initials>JM</initials>\n",
       "<affiliationinfo>\n",
       "<affiliation>The Florey Institute of Neuroscience and Mental Health, Melbourne Brain Centre, Austin Campus, Heidelberg, Australia.</affiliation>\n",
       "</affiliationinfo>\n",
       "</author>\n",
       "<author validyn=\"Y\">\n",
       "<lastname>Rewell</lastname>\n",
       "<forename>Sarah Susan Jane</forename>\n",
       "<initials>SSJ</initials>\n",
       "<affiliationinfo>\n",
       "<affiliation>The Florey Institute of Neuroscience and Mental Health, Melbourne Brain Centre, Austin Campus, Heidelberg, Australia.</affiliation>\n",
       "</affiliationinfo>\n",
       "</author>\n",
       "<author validyn=\"Y\">\n",
       "<lastname>Lockett</lastname>\n",
       "<forename>Linda Jane</forename>\n",
       "<initials>LJ</initials>\n",
       "<affiliationinfo>\n",
       "<affiliation>The Commonwealth Scientific and Industrial Research Organisation (CSIRO), Sydney, Australia.</affiliation>\n",
       "</affiliationinfo>\n",
       "</author>\n",
       "<author validyn=\"Y\">\n",
       "<lastname>Sastra</lastname>\n",
       "<forename>Stephen Andrew</forename>\n",
       "<initials>SA</initials>\n",
       "<affiliationinfo>\n",
       "<affiliation>The Florey Institute of Neuroscience and Mental Health, Melbourne Brain Centre, Austin Campus, Heidelberg, Australia.</affiliation>\n",
       "</affiliationinfo>\n",
       "</author>\n",
       "<author validyn=\"Y\">\n",
       "<lastname>Jeffreys</lastname>\n",
       "<forename>Amy Lucienne</forename>\n",
       "<initials>AL</initials>\n",
       "<affiliationinfo>\n",
       "<affiliation>The Florey Institute of Neuroscience and Mental Health, Melbourne Brain Centre, Austin Campus, Heidelberg, Australia.</affiliation>\n",
       "</affiliationinfo>\n",
       "</author>\n",
       "<author validyn=\"Y\">\n",
       "<lastname>Dewey</lastname>\n",
       "<forename>Helen Margaret</forename>\n",
       "<initials>HM</initials>\n",
       "<affiliationinfo>\n",
       "<affiliation>The Florey Institute of Neuroscience and Mental Health, Melbourne Brain Centre, Austin Campus, Heidelberg, Australia.</affiliation>\n",
       "</affiliationinfo>\n",
       "</author>\n",
       "<author validyn=\"Y\">\n",
       "<lastname>Donnan</lastname>\n",
       "<forename>Geoffrey Alan</forename>\n",
       "<initials>GA</initials>\n",
       "<identifier source=\"ORCID\">0000-0001-6324-3403</identifier>\n",
       "<affiliationinfo>\n",
       "<affiliation>The Florey Institute of Neuroscience and Mental Health, Melbourne Brain Centre, Austin Campus, Heidelberg, Australia.</affiliation>\n",
       "</affiliationinfo>\n",
       "</author>\n",
       "<author validyn=\"Y\">\n",
       "<lastname>Howells</lastname>\n",
       "<forename>David William</forename>\n",
       "<initials>DW</initials>\n",
       "<affiliationinfo>\n",
       "<affiliation>The Florey Institute of Neuroscience and Mental Health, Melbourne Brain Centre, Austin Campus, Heidelberg, Australia.</affiliation>\n",
       "</affiliationinfo>\n",
       "<affiliationinfo>\n",
       "<affiliation>School of Medicine, Faculty of Health, University of Tasmania, Hobart, Australia.</affiliation>\n",
       "</affiliationinfo>\n",
       "</author>\n",
       "</authorlist>\n",
       "<language>eng</language>\n",
       "<publicationtypelist>\n",
       "<publicationtype ui=\"D016428\">Journal Article</publicationtype>\n",
       "</publicationtypelist>\n",
       "<articledate datetype=\"Electronic\">\n",
       "<year>2018</year>\n",
       "<month>11</month>\n",
       "<day>15</day>\n",
       "</articledate>\n",
       "</article>\n",
       "<medlinejournalinfo>\n",
       "<country>United States</country>\n",
       "<medlineta>PLoS One</medlineta>\n",
       "<nlmuniqueid>101285081</nlmuniqueid>\n",
       "<issnlinking>1932-6203</issnlinking>\n",
       "</medlinejournalinfo>\n",
       "<chemicallist>\n",
       "<chemical>\n",
       "<registrynumber>0</registrynumber>\n",
       "<nameofsubstance ui=\"D015415\">Biomarkers</nameofsubstance>\n",
       "</chemical>\n",
       "<chemical>\n",
       "<registrynumber>0</registrynumber>\n",
       "<nameofsubstance ui=\"D012333\">RNA, Messenger</nameofsubstance>\n",
       "</chemical>\n",
       "</chemicallist>\n",
       "<citationsubset>IM</citationsubset>\n",
       "<meshheadinglist>\n",
       "<meshheading>\n",
       "<descriptorname majortopicyn=\"N\" ui=\"D000818\">Animals</descriptorname>\n",
       "</meshheading>\n",
       "<meshheading>\n",
       "<descriptorname majortopicyn=\"N\" ui=\"D015415\">Biomarkers</descriptorname>\n",
       "<qualifiername majortopicyn=\"N\" ui=\"Q000097\">blood</qualifiername>\n",
       "</meshheading>\n",
       "<meshheading>\n",
       "<descriptorname majortopicyn=\"Y\" ui=\"D020869\">Gene Expression Profiling</descriptorname>\n",
       "</meshheading>\n",
       "<meshheading>\n",
       "<descriptorname majortopicyn=\"N\" ui=\"D020244\">Infarction, Middle Cerebral Artery</descriptorname>\n",
       "<qualifiername majortopicyn=\"Y\" ui=\"Q000097\">blood</qualifiername>\n",
       "<qualifiername majortopicyn=\"Y\" ui=\"Q000235\">genetics</qualifiername>\n",
       "<qualifiername majortopicyn=\"N\" ui=\"Q000601\">surgery</qualifiername>\n",
       "</meshheading>\n",
       "<meshheading>\n",
       "<descriptorname majortopicyn=\"N\" ui=\"D012333\">RNA, Messenger</descriptorname>\n",
       "<qualifiername majortopicyn=\"N\" ui=\"Q000097\">blood</qualifiername>\n",
       "<qualifiername majortopicyn=\"N\" ui=\"Q000235\">genetics</qualifiername>\n",
       "<qualifiername majortopicyn=\"N\" ui=\"Q000378\">metabolism</qualifiername>\n",
       "</meshheading>\n",
       "<meshheading>\n",
       "<descriptorname majortopicyn=\"N\" ui=\"D051381\">Rats</descriptorname>\n",
       "</meshheading>\n",
       "<meshheading>\n",
       "<descriptorname majortopicyn=\"N\" ui=\"D013997\">Time Factors</descriptorname>\n",
       "</meshheading>\n",
       "</meshheadinglist>\n",
       "<coistatement>The authors have declared that no competing interests exist.</coistatement>\n",
       "</medlinecitation>\n",
       "<pubmeddata>\n",
       "<history>\n",
       "<pubmedpubdate pubstatus=\"received\">\n",
       "<year>2018</year>\n",
       "<month>03</month>\n",
       "<day>08</day>\n",
       "</pubmedpubdate>\n",
       "<pubmedpubdate pubstatus=\"accepted\">\n",
       "<year>2018</year>\n",
       "<month>10</month>\n",
       "<day>10</day>\n",
       "</pubmedpubdate>\n",
       "<pubmedpubdate pubstatus=\"entrez\">\n",
       "<year>2018</year>\n",
       "<month>11</month>\n",
       "<day>16</day>\n",
       "<hour>6</hour>\n",
       "<minute>0</minute>\n",
       "</pubmedpubdate>\n",
       "<pubmedpubdate pubstatus=\"pubmed\">\n",
       "<year>2018</year>\n",
       "<month>11</month>\n",
       "<day>16</day>\n",
       "<hour>6</hour>\n",
       "<minute>0</minute>\n",
       "</pubmedpubdate>\n",
       "<pubmedpubdate pubstatus=\"medline\">\n",
       "<year>2019</year>\n",
       "<month>4</month>\n",
       "<day>10</day>\n",
       "<hour>6</hour>\n",
       "<minute>0</minute>\n",
       "</pubmedpubdate>\n",
       "</history>\n",
       "<publicationstatus>epublish</publicationstatus>\n",
       "<articleidlist>\n",
       "<articleid idtype=\"pubmed\">30439964</articleid>\n",
       "<articleid idtype=\"doi\">10.1371/journal.pone.0206321</articleid>\n",
       "<articleid idtype=\"pii\">PONE-D-18-07138</articleid>\n",
       "<articleid idtype=\"pmc\">PMC6237327</articleid>\n",
       "</articleidlist>\n",
       "<referencelist>\n",
       "<reference>\n",
       "<citation>Stroke. 2013 Jun;44(6 Suppl 1):S23-5</citation>\n",
       "<articleidlist>\n",
       "<articleid idtype=\"pubmed\">23709718</articleid>\n",
       "</articleidlist>\n",
       "</reference>\n",
       "<reference>\n",
       "<citation>Lancet. 2004 Mar 6;363(9411):768-74</citation>\n",
       "<articleidlist>\n",
       "<articleid idtype=\"pubmed\">15016487</articleid>\n",
       "</articleidlist>\n",
       "</reference>\n",
       "<reference>\n",
       "<citation>Stroke. 2000 Aug;31(8):1889-92</citation>\n",
       "<articleidlist>\n",
       "<articleid idtype=\"pubmed\">10926952</articleid>\n",
       "</articleidlist>\n",
       "</reference>\n",
       "<reference>\n",
       "<citation>Genomics. 2014 Sep;104(3):163-9</citation>\n",
       "<articleidlist>\n",
       "<articleid idtype=\"pubmed\">25135788</articleid>\n",
       "</articleidlist>\n",
       "</reference>\n",
       "<reference>\n",
       "<citation>Life Sci. 1999;64(13):1099-108</citation>\n",
       "<articleidlist>\n",
       "<articleid idtype=\"pubmed\">10210272</articleid>\n",
       "</articleidlist>\n",
       "</reference>\n",
       "<reference>\n",
       "<citation>J Neuroimmunol. 2012 Aug 15;249(1-2):60-5</citation>\n",
       "<articleidlist>\n",
       "<articleid idtype=\"pubmed\">22591946</articleid>\n",
       "</articleidlist>\n",
       "</reference>\n",
       "<reference>\n",
       "<citation>N Engl J Med. 1995 Dec 14;333(24):1581-7</citation>\n",
       "<articleidlist>\n",
       "<articleid idtype=\"pubmed\">7477192</articleid>\n",
       "</articleidlist>\n",
       "</reference>\n",
       "<reference>\n",
       "<citation>Stroke. 1989 Jan;20(1):84-91</citation>\n",
       "<articleidlist>\n",
       "<articleid idtype=\"pubmed\">2643202</articleid>\n",
       "</articleidlist>\n",
       "</reference>\n",
       "<reference>\n",
       "<citation>Neurology. 2000 Dec 12;55(11):1649-55</citation>\n",
       "<articleidlist>\n",
       "<articleid idtype=\"pubmed\">11113218</articleid>\n",
       "</articleidlist>\n",
       "</reference>\n",
       "<reference>\n",
       "<citation>J Clin Neurosci. 2006 Jan;13(1):1-8</citation>\n",
       "<articleidlist>\n",
       "<articleid idtype=\"pubmed\">16410192</articleid>\n",
       "</articleidlist>\n",
       "</reference>\n",
       "<reference>\n",
       "<citation>N Engl J Med. 2008 Sep 25;359(13):1317-29</citation>\n",
       "<articleidlist>\n",
       "<articleid idtype=\"pubmed\">18815396</articleid>\n",
       "</articleidlist>\n",
       "</reference>\n",
       "<reference>\n",
       "<citation>J Neuroimmunol. 2007 Mar;184(1-2):53-68</citation>\n",
       "<articleidlist>\n",
       "<articleid idtype=\"pubmed\">17188755</articleid>\n",
       "</articleidlist>\n",
       "</reference>\n",
       "<reference>\n",
       "<citation>Cerebrovasc Dis. 2011;32(6):517-27</citation>\n",
       "<articleidlist>\n",
       "<articleid idtype=\"pubmed\">22104408</articleid>\n",
       "</articleidlist>\n",
       "</reference>\n",
       "<reference>\n",
       "<citation>J Neurol. 2014 Mar;261(3):533-45</citation>\n",
       "<articleidlist>\n",
       "<articleid idtype=\"pubmed\">24477489</articleid>\n",
       "</articleidlist>\n",
       "</reference>\n",
       "<reference>\n",
       "<citation>Hum Mol Genet. 2014 Nov 15;23(22):5866-78</citation>\n",
       "<articleidlist>\n",
       "<articleid idtype=\"pubmed\">24939910</articleid>\n",
       "</articleidlist>\n",
       "</reference>\n",
       "<reference>\n",
       "<citation>Chest. 2008 Jun;133(6 Suppl):630S-669S</citation>\n",
       "<articleidlist>\n",
       "<articleid idtype=\"pubmed\">18574275</articleid>\n",
       "</articleidlist>\n",
       "</reference>\n",
       "<reference>\n",
       "<citation>Neurology. 2010 Sep 14;75(11):1009-14</citation>\n",
       "<articleidlist>\n",
       "<articleid idtype=\"pubmed\">20837969</articleid>\n",
       "</articleidlist>\n",
       "</reference>\n",
       "<reference>\n",
       "<citation>Ann Neurol. 2001 Dec;50(6):699-707</citation>\n",
       "<articleidlist>\n",
       "<articleid idtype=\"pubmed\">11761467</articleid>\n",
       "</articleidlist>\n",
       "</reference>\n",
       "<reference>\n",
       "<citation>PLoS One. 2012;7(9):e43830</citation>\n",
       "<articleidlist>\n",
       "<articleid idtype=\"pubmed\">23028472</articleid>\n",
       "</articleidlist>\n",
       "</reference>\n",
       "<reference>\n",
       "<citation>Brain Res Bull. 2003 Aug 15;61(3):261-4</citation>\n",
       "<articleidlist>\n",
       "<articleid idtype=\"pubmed\">12909296</articleid>\n",
       "</articleidlist>\n",
       "</reference>\n",
       "<reference>\n",
       "<citation>PLoS One. 2013 Sep 12;8(9):e72758</citation>\n",
       "<articleidlist>\n",
       "<articleid idtype=\"pubmed\">24069157</articleid>\n",
       "</articleidlist>\n",
       "</reference>\n",
       "<reference>\n",
       "<citation>J Stroke Cerebrovasc Dis. 2009 Jul-Aug;18(4):269-76</citation>\n",
       "<articleidlist>\n",
       "<articleid idtype=\"pubmed\">19560680</articleid>\n",
       "</articleidlist>\n",
       "</reference>\n",
       "<reference>\n",
       "<citation>Circulation. 2005 Jan 18;111(2):212-21</citation>\n",
       "<articleidlist>\n",
       "<articleid idtype=\"pubmed\">15630028</articleid>\n",
       "</articleidlist>\n",
       "</reference>\n",
       "<reference>\n",
       "<citation>Br J Clin Pharmacol. 2012 Aug;74(2):230-40</citation>\n",
       "<articleidlist>\n",
       "<articleid idtype=\"pubmed\">22320313</articleid>\n",
       "</articleidlist>\n",
       "</reference>\n",
       "<reference>\n",
       "<citation>J Neurosci Methods. 2006 Sep 15;155(2):285-90</citation>\n",
       "<articleidlist>\n",
       "<articleid idtype=\"pubmed\">16513179</articleid>\n",
       "</articleidlist>\n",
       "</reference>\n",
       "<reference>\n",
       "<citation>J Neurol Sci. 2014 Oct 15;345(1-2):202-8</citation>\n",
       "<articleidlist>\n",
       "<articleid idtype=\"pubmed\">25109534</articleid>\n",
       "</articleidlist>\n",
       "</reference>\n",
       "<reference>\n",
       "<citation>Stroke. 2008 Oct;39(10):2902-9</citation>\n",
       "<articleidlist>\n",
       "<articleid idtype=\"pubmed\">18658039</articleid>\n",
       "</articleidlist>\n",
       "</reference>\n",
       "<reference>\n",
       "<citation>Cerebrovasc Dis. 2009;27(1):37-41</citation>\n",
       "<articleidlist>\n",
       "<articleid idtype=\"pubmed\">19018136</articleid>\n",
       "</articleidlist>\n",
       "</reference>\n",
       "<reference>\n",
       "<citation>Expert Opin Biol Ther. 2001 Mar;1(2):227-37</citation>\n",
       "<articleidlist>\n",
       "<articleid idtype=\"pubmed\">11727532</articleid>\n",
       "</articleidlist>\n",
       "</reference>\n",
       "<reference>\n",
       "<citation>Biomark Insights. 2017 Dec 20;12:1177271917749216</citation>\n",
       "<articleidlist>\n",
       "<articleid idtype=\"pubmed\">29308009</articleid>\n",
       "</articleidlist>\n",
       "</reference>\n",
       "<reference>\n",
       "<citation>Neurology. 2001 Apr 24;56(8):1015-20</citation>\n",
       "<articleidlist>\n",
       "<articleid idtype=\"pubmed\">11320171</articleid>\n",
       "</articleidlist>\n",
       "</reference>\n",
       "<reference>\n",
       "<citation>Neurol Sci. 2014 Dec;35(12):1977-82</citation>\n",
       "<articleidlist>\n",
       "<articleid idtype=\"pubmed\">25030125</articleid>\n",
       "</articleidlist>\n",
       "</reference>\n",
       "<reference>\n",
       "<citation>Stroke. 2002 Apr;33(4):988-93</citation>\n",
       "<articleidlist>\n",
       "<articleid idtype=\"pubmed\">11935049</articleid>\n",
       "</articleidlist>\n",
       "</reference>\n",
       "<reference>\n",
       "<citation>Stroke. 2011 Oct;42(10):2838-43</citation>\n",
       "<articleidlist>\n",
       "<articleid idtype=\"pubmed\">21852612</articleid>\n",
       "</articleidlist>\n",
       "</reference>\n",
       "<reference>\n",
       "<citation>Stroke. 2010 Oct;41(10):2171-7</citation>\n",
       "<articleidlist>\n",
       "<articleid idtype=\"pubmed\">20798371</articleid>\n",
       "</articleidlist>\n",
       "</reference>\n",
       "<reference>\n",
       "<citation>J Cereb Blood Flow Metab. 2006 Aug;26(8):1089-102</citation>\n",
       "<articleidlist>\n",
       "<articleid idtype=\"pubmed\">16395289</articleid>\n",
       "</articleidlist>\n",
       "</reference>\n",
       "<reference>\n",
       "<citation>Nat Protoc. 2009;4(8):1184-91</citation>\n",
       "<articleidlist>\n",
       "<articleid idtype=\"pubmed\">19617889</articleid>\n",
       "</articleidlist>\n",
       "</reference>\n",
       "<reference>\n",
       "<citation>Stroke. 2009 May;40(5):e380-9</citation>\n",
       "<articleidlist>\n",
       "<articleid idtype=\"pubmed\">19286602</articleid>\n",
       "</articleidlist>\n",
       "</reference>\n",
       "<reference>\n",
       "<citation>Stroke. 2009 Jan;40(1):77-85</citation>\n",
       "<articleidlist>\n",
       "<articleid idtype=\"pubmed\">18948614</articleid>\n",
       "</articleidlist>\n",
       "</reference>\n",
       "<reference>\n",
       "<citation>Biol Res Nurs. 2015 May;17(3):248-56</citation>\n",
       "<articleidlist>\n",
       "<articleid idtype=\"pubmed\">25124890</articleid>\n",
       "</articleidlist>\n",
       "</reference>\n",
       "<reference>\n",
       "<citation>Hum Exp Toxicol. 2008 Oct;27(10):761-7</citation>\n",
       "<articleidlist>\n",
       "<articleid idtype=\"pubmed\">19042962</articleid>\n",
       "</articleidlist>\n",
       "</reference>\n",
       "<reference>\n",
       "<citation>J Neurol. 2008 May;255(5):723-31</citation>\n",
       "<articleidlist>\n",
       "<articleid idtype=\"pubmed\">18465111</articleid>\n",
       "</articleidlist>\n",
       "</reference>\n",
       "<reference>\n",
       "<citation>Stroke. 2004 Jan;35(1):57-63</citation>\n",
       "<articleidlist>\n",
       "<articleid idtype=\"pubmed\">14671250</articleid>\n",
       "</articleidlist>\n",
       "</reference>\n",
       "<reference>\n",
       "<citation>Stroke. 2013 Mar;44(3):870-947</citation>\n",
       "<articleidlist>\n",
       "<articleid idtype=\"pubmed\">23370205</articleid>\n",
       "</articleidlist>\n",
       "</reference>\n",
       "<reference>\n",
       "<citation>Circulation. 2012 Jan 3;125(1):188-97</citation>\n",
       "<articleidlist>\n",
       "<articleid idtype=\"pubmed\">22215894</articleid>\n",
       "</articleidlist>\n",
       "</reference>\n",
       "<reference>\n",
       "<citation>Int J Stroke. 2015 Jul;10(5):759-62</citation>\n",
       "<articleidlist>\n",
       "<articleid idtype=\"pubmed\">25833105</articleid>\n",
       "</articleidlist>\n",
       "</reference>\n",
       "<reference>\n",
       "<citation>Proc Natl Acad Sci U S A. 2012 Apr 3;109(14):5475-80</citation>\n",
       "<articleidlist>\n",
       "<articleid idtype=\"pubmed\">22431614</articleid>\n",
       "</articleidlist>\n",
       "</reference>\n",
       "<reference>\n",
       "<citation>Cerebrovasc Dis. 2014;38(1):59-72</citation>\n",
       "<articleidlist>\n",
       "<articleid idtype=\"pubmed\">25227260</articleid>\n",
       "</articleidlist>\n",
       "</reference>\n",
       "<reference>\n",
       "<citation>Pharmacol Rev. 2009 Mar;61(1):62-97</citation>\n",
       "<articleidlist>\n",
       "<articleid idtype=\"pubmed\">19293146</articleid>\n",
       "</articleidlist>\n",
       "</reference>\n",
       "</referencelist>\n",
       "</pubmeddata>\n",
       "</pubmedarticle>\n",
       "</pubmedarticleset></body></html>"
      ]
     },
     "execution_count": 64,
     "metadata": {},
     "output_type": "execute_result"
    }
   ],
   "source": [
    "# Check out the content of the page\n",
    "fetch_content"
   ]
  },
  {
   "cell_type": "markdown",
   "metadata": {
    "slideshow": {
     "slide_type": "slide"
    }
   },
   "source": [
    "### BeautifulSoup Objects"
   ]
  },
  {
   "cell_type": "code",
   "execution_count": 65,
   "metadata": {
    "slideshow": {
     "slide_type": "fragment"
    }
   },
   "outputs": [
    {
     "data": {
      "text/plain": [
       "bs4.BeautifulSoup"
      ]
     },
     "execution_count": 65,
     "metadata": {},
     "output_type": "execute_result"
    }
   ],
   "source": [
    "# Our 'fetch_content' variable is a custom BeautifulSoup object\n",
    "type(fetch_content)"
   ]
  },
  {
   "cell_type": "code",
   "execution_count": 66,
   "metadata": {
    "scrolled": false,
    "slideshow": {
     "slide_type": "fragment"
    }
   },
   "outputs": [
    {
     "data": {
      "text/plain": [
       "'2019'"
      ]
     },
     "execution_count": 66,
     "metadata": {},
     "output_type": "execute_result"
    }
   ],
   "source": [
    "# We can use some methods to access particular information\n",
    "fetch_content.find('year').text"
   ]
  },
  {
   "cell_type": "markdown",
   "metadata": {
    "slideshow": {
     "slide_type": "slide"
    }
   },
   "source": [
    "## Literature Scanner\n",
    "\n",
    "But when making HTTP requests it can be difficult to figure out exactly what URL needs to be specified and how to get the contents back out.\n",
    "\n",
    "So, often in Python we'll interact with an API indirectly. There are packages that will use methods and objects to make this easier on us.\n",
    "\n",
    "**LISC** : Literature Scanner is a tool for automated meta-analyses of scientific literature (https://github.com/lisc-tools/lisc)"
   ]
  },
  {
   "cell_type": "code",
   "execution_count": null,
   "metadata": {
    "slideshow": {
     "slide_type": "slide"
    }
   },
   "outputs": [],
   "source": [
    "# uncomment and run to have the following \n",
    "# example work in your notebook\n",
    "!pip install --user git+https://github.com/lisc-tools/lisc.git"
   ]
  },
  {
   "cell_type": "code",
   "execution_count": 67,
   "metadata": {
    "scrolled": true,
    "slideshow": {
     "slide_type": "fragment"
    }
   },
   "outputs": [],
   "source": [
    "# Import LISC - Words\n",
    "from lisc import Words"
   ]
  },
  {
   "cell_type": "code",
   "execution_count": 68,
   "metadata": {
    "slideshow": {
     "slide_type": "fragment"
    }
   },
   "outputs": [],
   "source": [
    "# Initialize Words object & set some search terms\n",
    "words = Words()\n",
    "words.add_terms(['brain']) "
   ]
  },
  {
   "cell_type": "code",
   "execution_count": 69,
   "metadata": {
    "slideshow": {
     "slide_type": "fragment"
    }
   },
   "outputs": [],
   "source": [
    "# Run words scrape\n",
    "words.run_collection(retmax = '5')"
   ]
  },
  {
   "cell_type": "markdown",
   "metadata": {
    "slideshow": {
     "slide_type": "slide"
    }
   },
   "source": [
    "### LISC: Words Data"
   ]
  },
  {
   "cell_type": "code",
   "execution_count": 70,
   "metadata": {
    "scrolled": true,
    "slideshow": {
     "slide_type": "fragment"
    }
   },
   "outputs": [
    {
     "name": "stdout",
     "output_type": "stream",
     "text": [
      "Current clinical management of patients with glioblastoma.\n",
      "Treatment-triggered onset and diagnosis of Sheehan syndrome in a multiple myeloma patient.\n",
      "Phagocytosis-related NADPH oxidase 2 subunit gp91phox contributes to neurodegeneration after repeated systemic challenge with lipopolysaccharides.\n",
      "Ceasing Antiquated Conceptions: A Telling of the Early and Evolving History of Epilepsy.\n",
      "Deciphering the neural signature of human cardiovascular regulation.\n"
     ]
    }
   ],
   "source": [
    "# Check out some information from our scraped data\n",
    "for phrase in words['brain']:\n",
    "    print(phrase['title'])"
   ]
  },
  {
   "cell_type": "markdown",
   "metadata": {
    "slideshow": {
     "slide_type": "slide"
    }
   },
   "source": [
    "## Twitter API"
   ]
  },
  {
   "cell_type": "code",
   "execution_count": null,
   "metadata": {
    "slideshow": {
     "slide_type": "notes"
    }
   },
   "outputs": [],
   "source": [
    "# to use this on your computer\n",
    "# uncomment and run following line\n",
    "# !pip install tweepy"
   ]
  },
  {
   "cell_type": "markdown",
   "metadata": {
    "slideshow": {
     "slide_type": "notes"
    }
   },
   "source": [
    "Then, follow the instructions [here](https://www.digitalocean.com/community/tutorials/how-to-authenticate-a-python-application-with-twitter-using-tweepy-on-ubuntu-14-04) for authetication of tweepy with Python."
   ]
  },
  {
   "cell_type": "code",
   "execution_count": 75,
   "metadata": {
    "scrolled": true,
    "slideshow": {
     "slide_type": "fragment"
    }
   },
   "outputs": [
    {
     "name": "stdout",
     "output_type": "stream",
     "text": [
      "CalMatters\n",
      "RT @mlevinreports: Thread on this story (1/?): Imperial County Superior Court proceeded with eviction cases in apparent violation of state… \n",
      "\n",
      "Marco Rogers\n",
      "Oh. We really still talking about him losing? Like we've taken *any* action to stop voter suppression and election… https://t.co/3iXXJpUOYk \n",
      "\n",
      "Jeff Leek\n",
      "RT @bencasselman: @PatcohenNYT @gillianreporter \"But the stark urgency that faces families perilously close to losing their homes, skipping… \n",
      "\n"
     ]
    }
   ],
   "source": [
    "# Accessing Twitter API from Python\n",
    "#  Note: to run this, you will have to fill in stw.py with your OAuth credentials.\n",
    "#    You can do that here: https://apps.twitter.com/\n",
    "\n",
    "# Import tweepy to access API\n",
    "import tweepy\n",
    "from tweepy import OAuthHandler\n",
    "\n",
    "# Import my API credentials\n",
    "from stw import *\n",
    "\n",
    "# Twitter API requires Authentification with OAuth\n",
    "auth = OAuthHandler(CONSUMER_KEY, CONSUMER_SECRET)\n",
    "auth.set_access_token(ACCESS_TOKEN, ACCESS_TOKEN_SECRET)\n",
    "\n",
    "# # Create an API object to access Twitter\n",
    "api = tweepy.API(auth)\n",
    "\n",
    "for status in tweepy.Cursor(api.home_timeline).items(3):\n",
    "    # Process a single status\n",
    "    print(status.user.name)\n",
    "    print(status.text, '\\n')"
   ]
  }
 ],
 "metadata": {
  "celltoolbar": "Slideshow",
  "kernelspec": {
   "display_name": "Python 3",
   "language": "python",
   "name": "python3"
  },
  "language_info": {
   "codemirror_mode": {
    "name": "ipython",
    "version": 3
   },
   "file_extension": ".py",
   "mimetype": "text/x-python",
   "name": "python",
   "nbconvert_exporter": "python",
   "pygments_lexer": "ipython3",
   "version": "3.7.0"
  },
  "rise": {
   "scroll": true
  }
 },
 "nbformat": 4,
 "nbformat_minor": 2
}
